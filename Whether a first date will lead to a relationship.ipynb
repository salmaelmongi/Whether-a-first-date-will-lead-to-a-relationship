{
  "nbformat": 4,
  "nbformat_minor": 0,
  "metadata": {
    "colab": {
      "provenance": [],
      "collapsed_sections": [
        "aYvxSyipwHlj",
        "aLFymm82wMdC",
        "15xWGeyVwbp7",
        "CwRGFHVrtscy",
        "dsSBRf88tQcC"
      ]
    },
    "kernelspec": {
      "name": "python3",
      "display_name": "Python 3"
    },
    "language_info": {
      "name": "python"
    }
  },
  "cells": [
    {
      "cell_type": "markdown",
      "source": [
        "#Defining the problem\n"
      ],
      "metadata": {
        "id": "u6wLMBllMOoO"
      }
    },
    {
      "cell_type": "markdown",
      "source": [
        "**What is the input?**"
      ],
      "metadata": {
        "id": "IzxSFZemNBZ9"
      }
    },
    {
      "cell_type": "markdown",
      "source": [
        "based on the profiles of two people, the input data representing the results of a speed dating session.\n",
        "\n",
        "\n",
        "*  consisting of 191 features, one for each date from a speed dating event\n",
        "*  Although the dataset is clean, there are numerous missing values that require preprocessing.\n",
        "\n",
        "\n",
        "\n",
        "\n"
      ],
      "metadata": {
        "id": "BaLRf7B6Mo_d"
      }
    },
    {
      "cell_type": "markdown",
      "source": [
        "**What is the output?** "
      ],
      "metadata": {
        "id": "OvOiHjHtNEKF"
      }
    },
    {
      "cell_type": "markdown",
      "source": [
        "In order to implement a recommendation system to better match people at speed dating events, our model must forecast the result of a specific speed dating session based on the profiles of two people. We are going to estimate the likelihood that a successful match will result from the dating session.\n",
        "\n",
        "\n"
      ],
      "metadata": {
        "id": "j_GavmLVNXW9"
      }
    },
    {
      "cell_type": "markdown",
      "source": [
        "**What data mining function is required?** "
      ],
      "metadata": {
        "id": "uKyhwj0tNd3G"
      }
    },
    {
      "cell_type": "markdown",
      "source": [
        "using grid search, random search, pipelines, and Bayesian search for binary classification."
      ],
      "metadata": {
        "id": "gnPZcRygNkD1"
      }
    },
    {
      "cell_type": "markdown",
      "source": [
        "**What could be the challenges?** "
      ],
      "metadata": {
        "id": "Zsm2cEO5OiKG"
      }
    },
    {
      "cell_type": "markdown",
      "source": [
        "Our algorithm must be effective and scalable to extract information from the big data, and we must have sufficient knowledge and experience to use them if we needed to improve our algorithms. Developing a successful solution to our problem requires complex data, datasets can include complex data elements, and another thing is that we have to make sure that our algorithm is appropriate for the problem at hand."
      ],
      "metadata": {
        "id": "NZsjulPYOltl"
      }
    },
    {
      "cell_type": "markdown",
      "source": [
        "**What is the impact?** "
      ],
      "metadata": {
        "id": "QXkEcOWuO42F"
      }
    },
    {
      "cell_type": "markdown",
      "source": [
        "Our model's predictions will lead to the implementation of a recommendation system to more effectively match participants in speed dating events, which will facilitate dating."
      ],
      "metadata": {
        "id": "TzGqQ2KQO9I9"
      }
    },
    {
      "cell_type": "markdown",
      "source": [
        "**What is an ideal solution?** "
      ],
      "metadata": {
        "id": "WoG7B461PFcu"
      }
    },
    {
      "cell_type": "markdown",
      "source": [
        "The best option is to clean and prepare the data before using it.\n",
        "\n",
        "The following are a few potential answers:\n",
        "\n",
        "\n",
        "*  providing the appropriate value for the missing data in accordance with the results of the hyperparameter tuning\n",
        "*  Remove unnecessary Columns (or Features) to make the selection of Features less dimensional\n",
        "\n",
        "\n"
      ],
      "metadata": {
        "id": "FzmgLuPmPIsO"
      }
    },
    {
      "cell_type": "markdown",
      "source": [
        "**What is the experimental protocol used and how was it carried out?** "
      ],
      "metadata": {
        "id": "QlbmUY90P4dF"
      }
    },
    {
      "cell_type": "markdown",
      "source": [
        "The experimental protocol involves setting a value for k-fold cross validation cv while using GridSearchCV, RandomizedSearchCV, or BayesSearchCV after loading, cleaning, and preprocessing the data.\n",
        "\n",
        "\n",
        "and use (roc_auc) to assess performance."
      ],
      "metadata": {
        "id": "pRxATUZlP-N9"
      }
    },
    {
      "cell_type": "markdown",
      "source": [
        "**What preprocessing steps are used?** "
      ],
      "metadata": {
        "id": "QgSpQDKKQNw9"
      }
    },
    {
      "cell_type": "markdown",
      "source": [
        "\n",
        "\n",
        "*  view the data and understand it\n",
        "\n",
        "*  using df.info() to get more insight about the data\n",
        "\n",
        "*   check the missing data using df.isna().sum()\n",
        "\n",
        "*   convert all object columns to categorical column\n",
        "\n",
        "*   extracting numeric features and categorical features\n",
        "\n",
        "*   define a pipe line for numeric feature preprocessing with applying StandardScaler on it\n",
        "*   define a pipe line for categorical feature preprocessing with applying OneHotEncoder on it\n",
        "\n",
        "*   define the preprocessor and specify what are the categorical and numeric pipeline on it\n",
        "\n",
        "\n",
        "*   using hyperparameter tuning, try to find:the approprait strategy to fill the missing data\n",
        "\n",
        "\n",
        "\n",
        "\n"
      ],
      "metadata": {
        "id": "P5gfrw0BQYEl"
      }
    },
    {
      "cell_type": "markdown",
      "source": [
        "#Questions"
      ],
      "metadata": {
        "id": "FiZocpeMRi92"
      }
    },
    {
      "cell_type": "markdown",
      "source": [
        "**Why a simple linear regression model (without any activation function) is not good for classification task, compared to Perceptron/Logistic regression?** "
      ],
      "metadata": {
        "id": "wG15uCeLRmgm"
      }
    },
    {
      "cell_type": "markdown",
      "source": [
        "While classification predicts and handles discrete values, linear regression predicts and handles continuous values. The second problem is that the threshold value changes as more data points are added.\n",
        "\n",
        "In contrast, a categorical value—such as 0 or 1, Yes or No—is the outcome of a perceptron or logistic regression."
      ],
      "metadata": {
        "id": "M4ZHTKfGSnBW"
      }
    },
    {
      "cell_type": "markdown",
      "source": [
        "**What's a decision tree and how it is different to a logistic regression model?** "
      ],
      "metadata": {
        "id": "JsKrYtfxS4D2"
      }
    },
    {
      "cell_type": "markdown",
      "source": [
        "An instrument that forecasts probable outcomes, resource costs, utility costs, and potential implications is called a decision tree. In order to provide conditional control assertions in algorithms, decision trees are a mechanism. They have branches that represent potential course of action for making good decisions.\n",
        "\n",
        "While Logistic Regression fits a single line to precisely divide the space into two, Decision Trees divide the space into progressively smaller sections. For higher-dimensional data, these lines would naturally generalize to planes and hyperplanes."
      ],
      "metadata": {
        "id": "Vg34b5hzS6O2"
      }
    },
    {
      "cell_type": "markdown",
      "source": [
        "**What's the difference between grid search and random search?** "
      ],
      "metadata": {
        "id": "CiZesFRJTK1V"
      }
    },
    {
      "cell_type": "markdown",
      "source": [
        "*Grid search*\n",
        "\n",
        "\n",
        "*   Try out every combination of the parameters:\n",
        "\n",
        "*  Computationally expensive\n",
        "*  Global optimal (within the given range)\n",
        "\n",
        "\n",
        "*   Sklearn: model_selection.GridSearchCV\n",
        "\n",
        "*Random search*\n",
        "\n",
        "\n",
        "*   Try out a random subset\n",
        "\n",
        "*   good enough\n",
        "*   Local optimal (within the given range)\n",
        "\n",
        "\n",
        "*   Efficient (less trials)\n",
        "\n",
        "\n",
        "*   Sklearn: model_selection.RandomizedSearchCV\n",
        "\n",
        "The exhaustive enumeration of all combinations used in grid search is replaced by random selection in random search.\n",
        "\n",
        "\n",
        "Random Search limits the number of hyperparameter combinations tested while Grid Search uses all possible combinations.\n",
        "\n",
        "The cost of grid search (global optimal) increases with the size of the search space. As an alternative, random search CV produces local optimal results that may be adequate and even more generalizable.\n",
        "\n",
        "the random search is more faster than the grid search\n",
        "\n",
        "\n",
        "\n",
        "\n",
        "\n",
        "\n",
        "\n"
      ],
      "metadata": {
        "id": "1NuaxhT8TPTe"
      }
    },
    {
      "cell_type": "markdown",
      "source": [
        "**What's the difference between bayesian search and random search?** "
      ],
      "metadata": {
        "id": "2MXjYqYYUcam"
      }
    },
    {
      "cell_type": "markdown",
      "source": [
        "\n",
        "Bayesian optimization methods are effective because they choose hyperparameters intelligently. Because Bayesian approaches prioritize hyperparameters that seem more promising from prior findings, they can find the best hyperparameters faster (with fewer iterations) than grid search and random search.\n"
      ],
      "metadata": {
        "id": "PGatu8PgUfz9"
      }
    },
    {
      "cell_type": "markdown",
      "source": [
        "#importing libraires \n",
        "These libraries will make our tasks a lot easier, as they have readily available functions and models that can be used instead of doing that ourselves."
      ],
      "metadata": {
        "id": "aYvxSyipwHlj"
      }
    },
    {
      "cell_type": "code",
      "execution_count": null,
      "metadata": {
        "id": "VuTponcuvEkl"
      },
      "outputs": [],
      "source": [
        "#import libiraries\n",
        "import pandas as pd #which is used for data cleaning and analysis\n",
        "import numpy as np # to perform a wide variety of mathematical operations on arrays.\n",
        "from sklearn.metrics import confusion_matrix, classification_report # let you assess the quality of your predictions\n",
        "from sklearn.compose import ColumnTransformer #This estimator allows different columns or column subsets of the input to be transformed separately and the features generated by each transformer\n",
        "from sklearn.datasets import fetch_openml #Datasets are uniquely identified by either an integer ID or by a combination of name and version so give either name or data_id In case a name is given, a version can also be provided.\n",
        "from sklearn.pipeline import Pipeline # is to assemble several steps that can be cross-validated together while setting different parameters.\n",
        "from sklearn.impute import SimpleImputer #for completing missing values with simple strategies\n",
        "from sklearn.preprocessing import StandardScaler, OneHotEncoder #StandardScaler removes the mean and scales each feature/variable to unit variance., process by which categorical data (such as nominal data) are converted into numerical features of a dataset.\n",
        "from sklearn.model_selection import train_test_split, GridSearchCV #train_test_split: helps us create our training data and test data. #GridSearchCV: helps to loop through predefined hyperparameters and fit your estimator (model) on your training set.\n",
        "from sklearn.model_selection import train_test_split, RandomizedSearchCV #randomly passes the set of hyperparameters and calculate the score and gives the best set of hyperparameters which gives the best score as an output.\n",
        "from sklearn.model_selection import PredefinedSplit #Provides train/test indices to split data into train/test sets using a predefined scheme specified by the user with the test_fold parameter.\n",
        "from xgboost.sklearn import XGBClassifier #often produces state-of-the-art predictions \n",
        "from sklearn import feature_selection #to improve estimators' accuracy scores or to boost their performance on very high-dimensional datasets.\n",
        "from sklearn.feature_selection import SelectKBest, chi2, SelectFromModel #SelectKBest: It helps us to eliminate less important part of the data and reduce a training time., chi2 :Compute chi-squared stats between each non-negative feature and class.,SelectFromModel: a meta-estimator that determines the weight importance by comparing to the given threshold value.\n",
        "from sklearn.feature_selection import f_classif #to determine whether there is any statistically significant difference between the means of two or more groups.\n",
        "from sklearn import linear_model, preprocessing #linear_model: for performing machine learning with linear models,preprocessing: provides several common utility functions and transformer classes to change raw feature vectors into a representation that is more suitable for the downstream estimators\n",
        "from sklearn import decomposition # is to break the problem into discrete “chunks” of work that can be distributed to multiple tasks so the can work on on the problem"
      ]
    },
    {
      "cell_type": "markdown",
      "source": [
        "#load the data\n",
        "To both read from and write to a file"
      ],
      "metadata": {
        "id": "aLFymm82wMdC"
      }
    },
    {
      "cell_type": "code",
      "source": [
        "# reading the training dataset \n",
        "df_train = pd.read_csv('/content/train.csv')  \n",
        "# reading the testing dataset \n",
        "df_test = pd.read_csv('/content/test.csv') "
      ],
      "metadata": {
        "id": "Ol8qnHrSwLMC"
      },
      "execution_count": null,
      "outputs": []
    },
    {
      "cell_type": "code",
      "source": [
        "#show heading of columns in trainig data\n",
        "df_train.head()"
      ],
      "metadata": {
        "colab": {
          "base_uri": "https://localhost:8080/",
          "height": 235
        },
        "id": "YbeEBhC2wQna",
        "outputId": "e7284d38-2752-432e-93b0-28dde2e64a4d"
      },
      "execution_count": null,
      "outputs": [
        {
          "output_type": "execute_result",
          "data": {
            "text/plain": [
              "   gender  idg  condtn  wave  round  position  positin1  order  partner  \\\n",
              "0       0    3       2    14     18         2       2.0     14       12   \n",
              "1       1   14       1     3     10         2       NaN      8        8   \n",
              "2       1   14       1    13     10         8       8.0     10       10   \n",
              "3       1   38       2     9     20        18      13.0      6        7   \n",
              "4       1   24       2    14     20         6       6.0     20       17   \n",
              "\n",
              "     pid  ...  sinc3_3  intel3_3  fun3_3  amb3_3  attr5_3  sinc5_3  intel5_3  \\\n",
              "0  372.0  ...      NaN       NaN     NaN     NaN      NaN      NaN       NaN   \n",
              "1   63.0  ...      8.0       8.0     7.0     8.0      NaN      NaN       NaN   \n",
              "2  331.0  ...      NaN       NaN     NaN     NaN      NaN      NaN       NaN   \n",
              "3  200.0  ...      9.0       8.0     8.0     6.0      NaN      NaN       NaN   \n",
              "4  357.0  ...      NaN       NaN     NaN     NaN      NaN      NaN       NaN   \n",
              "\n",
              "   fun5_3  amb5_3    id  \n",
              "0     NaN     NaN  2583  \n",
              "1     NaN     NaN  6830  \n",
              "2     NaN     NaN  4840  \n",
              "3     NaN     NaN  5508  \n",
              "4     NaN     NaN  4828  \n",
              "\n",
              "[5 rows x 192 columns]"
            ],
            "text/html": [
              "\n",
              "  <div id=\"df-602ecc38-5bfd-4b8d-a2e0-45173e174239\">\n",
              "    <div class=\"colab-df-container\">\n",
              "      <div>\n",
              "<style scoped>\n",
              "    .dataframe tbody tr th:only-of-type {\n",
              "        vertical-align: middle;\n",
              "    }\n",
              "\n",
              "    .dataframe tbody tr th {\n",
              "        vertical-align: top;\n",
              "    }\n",
              "\n",
              "    .dataframe thead th {\n",
              "        text-align: right;\n",
              "    }\n",
              "</style>\n",
              "<table border=\"1\" class=\"dataframe\">\n",
              "  <thead>\n",
              "    <tr style=\"text-align: right;\">\n",
              "      <th></th>\n",
              "      <th>gender</th>\n",
              "      <th>idg</th>\n",
              "      <th>condtn</th>\n",
              "      <th>wave</th>\n",
              "      <th>round</th>\n",
              "      <th>position</th>\n",
              "      <th>positin1</th>\n",
              "      <th>order</th>\n",
              "      <th>partner</th>\n",
              "      <th>pid</th>\n",
              "      <th>...</th>\n",
              "      <th>sinc3_3</th>\n",
              "      <th>intel3_3</th>\n",
              "      <th>fun3_3</th>\n",
              "      <th>amb3_3</th>\n",
              "      <th>attr5_3</th>\n",
              "      <th>sinc5_3</th>\n",
              "      <th>intel5_3</th>\n",
              "      <th>fun5_3</th>\n",
              "      <th>amb5_3</th>\n",
              "      <th>id</th>\n",
              "    </tr>\n",
              "  </thead>\n",
              "  <tbody>\n",
              "    <tr>\n",
              "      <th>0</th>\n",
              "      <td>0</td>\n",
              "      <td>3</td>\n",
              "      <td>2</td>\n",
              "      <td>14</td>\n",
              "      <td>18</td>\n",
              "      <td>2</td>\n",
              "      <td>2.0</td>\n",
              "      <td>14</td>\n",
              "      <td>12</td>\n",
              "      <td>372.0</td>\n",
              "      <td>...</td>\n",
              "      <td>NaN</td>\n",
              "      <td>NaN</td>\n",
              "      <td>NaN</td>\n",
              "      <td>NaN</td>\n",
              "      <td>NaN</td>\n",
              "      <td>NaN</td>\n",
              "      <td>NaN</td>\n",
              "      <td>NaN</td>\n",
              "      <td>NaN</td>\n",
              "      <td>2583</td>\n",
              "    </tr>\n",
              "    <tr>\n",
              "      <th>1</th>\n",
              "      <td>1</td>\n",
              "      <td>14</td>\n",
              "      <td>1</td>\n",
              "      <td>3</td>\n",
              "      <td>10</td>\n",
              "      <td>2</td>\n",
              "      <td>NaN</td>\n",
              "      <td>8</td>\n",
              "      <td>8</td>\n",
              "      <td>63.0</td>\n",
              "      <td>...</td>\n",
              "      <td>8.0</td>\n",
              "      <td>8.0</td>\n",
              "      <td>7.0</td>\n",
              "      <td>8.0</td>\n",
              "      <td>NaN</td>\n",
              "      <td>NaN</td>\n",
              "      <td>NaN</td>\n",
              "      <td>NaN</td>\n",
              "      <td>NaN</td>\n",
              "      <td>6830</td>\n",
              "    </tr>\n",
              "    <tr>\n",
              "      <th>2</th>\n",
              "      <td>1</td>\n",
              "      <td>14</td>\n",
              "      <td>1</td>\n",
              "      <td>13</td>\n",
              "      <td>10</td>\n",
              "      <td>8</td>\n",
              "      <td>8.0</td>\n",
              "      <td>10</td>\n",
              "      <td>10</td>\n",
              "      <td>331.0</td>\n",
              "      <td>...</td>\n",
              "      <td>NaN</td>\n",
              "      <td>NaN</td>\n",
              "      <td>NaN</td>\n",
              "      <td>NaN</td>\n",
              "      <td>NaN</td>\n",
              "      <td>NaN</td>\n",
              "      <td>NaN</td>\n",
              "      <td>NaN</td>\n",
              "      <td>NaN</td>\n",
              "      <td>4840</td>\n",
              "    </tr>\n",
              "    <tr>\n",
              "      <th>3</th>\n",
              "      <td>1</td>\n",
              "      <td>38</td>\n",
              "      <td>2</td>\n",
              "      <td>9</td>\n",
              "      <td>20</td>\n",
              "      <td>18</td>\n",
              "      <td>13.0</td>\n",
              "      <td>6</td>\n",
              "      <td>7</td>\n",
              "      <td>200.0</td>\n",
              "      <td>...</td>\n",
              "      <td>9.0</td>\n",
              "      <td>8.0</td>\n",
              "      <td>8.0</td>\n",
              "      <td>6.0</td>\n",
              "      <td>NaN</td>\n",
              "      <td>NaN</td>\n",
              "      <td>NaN</td>\n",
              "      <td>NaN</td>\n",
              "      <td>NaN</td>\n",
              "      <td>5508</td>\n",
              "    </tr>\n",
              "    <tr>\n",
              "      <th>4</th>\n",
              "      <td>1</td>\n",
              "      <td>24</td>\n",
              "      <td>2</td>\n",
              "      <td>14</td>\n",
              "      <td>20</td>\n",
              "      <td>6</td>\n",
              "      <td>6.0</td>\n",
              "      <td>20</td>\n",
              "      <td>17</td>\n",
              "      <td>357.0</td>\n",
              "      <td>...</td>\n",
              "      <td>NaN</td>\n",
              "      <td>NaN</td>\n",
              "      <td>NaN</td>\n",
              "      <td>NaN</td>\n",
              "      <td>NaN</td>\n",
              "      <td>NaN</td>\n",
              "      <td>NaN</td>\n",
              "      <td>NaN</td>\n",
              "      <td>NaN</td>\n",
              "      <td>4828</td>\n",
              "    </tr>\n",
              "  </tbody>\n",
              "</table>\n",
              "<p>5 rows × 192 columns</p>\n",
              "</div>\n",
              "      <button class=\"colab-df-convert\" onclick=\"convertToInteractive('df-602ecc38-5bfd-4b8d-a2e0-45173e174239')\"\n",
              "              title=\"Convert this dataframe to an interactive table.\"\n",
              "              style=\"display:none;\">\n",
              "        \n",
              "  <svg xmlns=\"http://www.w3.org/2000/svg\" height=\"24px\"viewBox=\"0 0 24 24\"\n",
              "       width=\"24px\">\n",
              "    <path d=\"M0 0h24v24H0V0z\" fill=\"none\"/>\n",
              "    <path d=\"M18.56 5.44l.94 2.06.94-2.06 2.06-.94-2.06-.94-.94-2.06-.94 2.06-2.06.94zm-11 1L8.5 8.5l.94-2.06 2.06-.94-2.06-.94L8.5 2.5l-.94 2.06-2.06.94zm10 10l.94 2.06.94-2.06 2.06-.94-2.06-.94-.94-2.06-.94 2.06-2.06.94z\"/><path d=\"M17.41 7.96l-1.37-1.37c-.4-.4-.92-.59-1.43-.59-.52 0-1.04.2-1.43.59L10.3 9.45l-7.72 7.72c-.78.78-.78 2.05 0 2.83L4 21.41c.39.39.9.59 1.41.59.51 0 1.02-.2 1.41-.59l7.78-7.78 2.81-2.81c.8-.78.8-2.07 0-2.86zM5.41 20L4 18.59l7.72-7.72 1.47 1.35L5.41 20z\"/>\n",
              "  </svg>\n",
              "      </button>\n",
              "      \n",
              "  <style>\n",
              "    .colab-df-container {\n",
              "      display:flex;\n",
              "      flex-wrap:wrap;\n",
              "      gap: 12px;\n",
              "    }\n",
              "\n",
              "    .colab-df-convert {\n",
              "      background-color: #E8F0FE;\n",
              "      border: none;\n",
              "      border-radius: 50%;\n",
              "      cursor: pointer;\n",
              "      display: none;\n",
              "      fill: #1967D2;\n",
              "      height: 32px;\n",
              "      padding: 0 0 0 0;\n",
              "      width: 32px;\n",
              "    }\n",
              "\n",
              "    .colab-df-convert:hover {\n",
              "      background-color: #E2EBFA;\n",
              "      box-shadow: 0px 1px 2px rgba(60, 64, 67, 0.3), 0px 1px 3px 1px rgba(60, 64, 67, 0.15);\n",
              "      fill: #174EA6;\n",
              "    }\n",
              "\n",
              "    [theme=dark] .colab-df-convert {\n",
              "      background-color: #3B4455;\n",
              "      fill: #D2E3FC;\n",
              "    }\n",
              "\n",
              "    [theme=dark] .colab-df-convert:hover {\n",
              "      background-color: #434B5C;\n",
              "      box-shadow: 0px 1px 3px 1px rgba(0, 0, 0, 0.15);\n",
              "      filter: drop-shadow(0px 1px 2px rgba(0, 0, 0, 0.3));\n",
              "      fill: #FFFFFF;\n",
              "    }\n",
              "  </style>\n",
              "\n",
              "      <script>\n",
              "        const buttonEl =\n",
              "          document.querySelector('#df-602ecc38-5bfd-4b8d-a2e0-45173e174239 button.colab-df-convert');\n",
              "        buttonEl.style.display =\n",
              "          google.colab.kernel.accessAllowed ? 'block' : 'none';\n",
              "\n",
              "        async function convertToInteractive(key) {\n",
              "          const element = document.querySelector('#df-602ecc38-5bfd-4b8d-a2e0-45173e174239');\n",
              "          const dataTable =\n",
              "            await google.colab.kernel.invokeFunction('convertToInteractive',\n",
              "                                                     [key], {});\n",
              "          if (!dataTable) return;\n",
              "\n",
              "          const docLinkHtml = 'Like what you see? Visit the ' +\n",
              "            '<a target=\"_blank\" href=https://colab.research.google.com/notebooks/data_table.ipynb>data table notebook</a>'\n",
              "            + ' to learn more about interactive tables.';\n",
              "          element.innerHTML = '';\n",
              "          dataTable['output_type'] = 'display_data';\n",
              "          await google.colab.output.renderOutput(dataTable, element);\n",
              "          const docLink = document.createElement('div');\n",
              "          docLink.innerHTML = docLinkHtml;\n",
              "          element.appendChild(docLink);\n",
              "        }\n",
              "      </script>\n",
              "    </div>\n",
              "  </div>\n",
              "  "
            ]
          },
          "metadata": {},
          "execution_count": 3
        }
      ]
    },
    {
      "cell_type": "code",
      "source": [
        "#show heading of columns in testing data\n",
        "df_test.head()"
      ],
      "metadata": {
        "colab": {
          "base_uri": "https://localhost:8080/",
          "height": 235
        },
        "id": "Q6R0D1TmwTfK",
        "outputId": "48724824-78c8-459c-9b40-7ad5dc29971f"
      },
      "execution_count": null,
      "outputs": [
        {
          "output_type": "execute_result",
          "data": {
            "text/plain": [
              "   gender  idg  condtn  wave  round  position  positin1  order  partner  \\\n",
              "0       0    5       2     2     16         3       NaN     13       13   \n",
              "1       0   33       2    14     18         6       6.0      4        8   \n",
              "2       1    6       2     9     20        10      16.0     15       19   \n",
              "3       1   26       2     2     19        15       NaN      8       10   \n",
              "4       0   29       2     7     16         7       7.0     10        5   \n",
              "\n",
              "     pid  ...  sinc3_3  intel3_3  fun3_3  amb3_3  attr5_3  sinc5_3  intel5_3  \\\n",
              "0   52.0  ...      7.0       8.0     6.0     8.0      NaN      NaN       NaN   \n",
              "1  368.0  ...      8.0       7.0     7.0     8.0      6.0      7.0       6.0   \n",
              "2  212.0  ...      NaN       NaN     NaN     NaN      NaN      NaN       NaN   \n",
              "3   30.0  ...      NaN       NaN     NaN     NaN      NaN      NaN       NaN   \n",
              "4  162.0  ...      NaN       NaN     NaN     NaN      NaN      NaN       NaN   \n",
              "\n",
              "   fun5_3  amb5_3    id  \n",
              "0     NaN     NaN   934  \n",
              "1     5.0     5.0  6539  \n",
              "2     NaN     NaN  6757  \n",
              "3     NaN     NaN  2275  \n",
              "4     NaN     NaN  1052  \n",
              "\n",
              "[5 rows x 191 columns]"
            ],
            "text/html": [
              "\n",
              "  <div id=\"df-97fcd19d-fa77-4072-b1cd-dc6d58f74386\">\n",
              "    <div class=\"colab-df-container\">\n",
              "      <div>\n",
              "<style scoped>\n",
              "    .dataframe tbody tr th:only-of-type {\n",
              "        vertical-align: middle;\n",
              "    }\n",
              "\n",
              "    .dataframe tbody tr th {\n",
              "        vertical-align: top;\n",
              "    }\n",
              "\n",
              "    .dataframe thead th {\n",
              "        text-align: right;\n",
              "    }\n",
              "</style>\n",
              "<table border=\"1\" class=\"dataframe\">\n",
              "  <thead>\n",
              "    <tr style=\"text-align: right;\">\n",
              "      <th></th>\n",
              "      <th>gender</th>\n",
              "      <th>idg</th>\n",
              "      <th>condtn</th>\n",
              "      <th>wave</th>\n",
              "      <th>round</th>\n",
              "      <th>position</th>\n",
              "      <th>positin1</th>\n",
              "      <th>order</th>\n",
              "      <th>partner</th>\n",
              "      <th>pid</th>\n",
              "      <th>...</th>\n",
              "      <th>sinc3_3</th>\n",
              "      <th>intel3_3</th>\n",
              "      <th>fun3_3</th>\n",
              "      <th>amb3_3</th>\n",
              "      <th>attr5_3</th>\n",
              "      <th>sinc5_3</th>\n",
              "      <th>intel5_3</th>\n",
              "      <th>fun5_3</th>\n",
              "      <th>amb5_3</th>\n",
              "      <th>id</th>\n",
              "    </tr>\n",
              "  </thead>\n",
              "  <tbody>\n",
              "    <tr>\n",
              "      <th>0</th>\n",
              "      <td>0</td>\n",
              "      <td>5</td>\n",
              "      <td>2</td>\n",
              "      <td>2</td>\n",
              "      <td>16</td>\n",
              "      <td>3</td>\n",
              "      <td>NaN</td>\n",
              "      <td>13</td>\n",
              "      <td>13</td>\n",
              "      <td>52.0</td>\n",
              "      <td>...</td>\n",
              "      <td>7.0</td>\n",
              "      <td>8.0</td>\n",
              "      <td>6.0</td>\n",
              "      <td>8.0</td>\n",
              "      <td>NaN</td>\n",
              "      <td>NaN</td>\n",
              "      <td>NaN</td>\n",
              "      <td>NaN</td>\n",
              "      <td>NaN</td>\n",
              "      <td>934</td>\n",
              "    </tr>\n",
              "    <tr>\n",
              "      <th>1</th>\n",
              "      <td>0</td>\n",
              "      <td>33</td>\n",
              "      <td>2</td>\n",
              "      <td>14</td>\n",
              "      <td>18</td>\n",
              "      <td>6</td>\n",
              "      <td>6.0</td>\n",
              "      <td>4</td>\n",
              "      <td>8</td>\n",
              "      <td>368.0</td>\n",
              "      <td>...</td>\n",
              "      <td>8.0</td>\n",
              "      <td>7.0</td>\n",
              "      <td>7.0</td>\n",
              "      <td>8.0</td>\n",
              "      <td>6.0</td>\n",
              "      <td>7.0</td>\n",
              "      <td>6.0</td>\n",
              "      <td>5.0</td>\n",
              "      <td>5.0</td>\n",
              "      <td>6539</td>\n",
              "    </tr>\n",
              "    <tr>\n",
              "      <th>2</th>\n",
              "      <td>1</td>\n",
              "      <td>6</td>\n",
              "      <td>2</td>\n",
              "      <td>9</td>\n",
              "      <td>20</td>\n",
              "      <td>10</td>\n",
              "      <td>16.0</td>\n",
              "      <td>15</td>\n",
              "      <td>19</td>\n",
              "      <td>212.0</td>\n",
              "      <td>...</td>\n",
              "      <td>NaN</td>\n",
              "      <td>NaN</td>\n",
              "      <td>NaN</td>\n",
              "      <td>NaN</td>\n",
              "      <td>NaN</td>\n",
              "      <td>NaN</td>\n",
              "      <td>NaN</td>\n",
              "      <td>NaN</td>\n",
              "      <td>NaN</td>\n",
              "      <td>6757</td>\n",
              "    </tr>\n",
              "    <tr>\n",
              "      <th>3</th>\n",
              "      <td>1</td>\n",
              "      <td>26</td>\n",
              "      <td>2</td>\n",
              "      <td>2</td>\n",
              "      <td>19</td>\n",
              "      <td>15</td>\n",
              "      <td>NaN</td>\n",
              "      <td>8</td>\n",
              "      <td>10</td>\n",
              "      <td>30.0</td>\n",
              "      <td>...</td>\n",
              "      <td>NaN</td>\n",
              "      <td>NaN</td>\n",
              "      <td>NaN</td>\n",
              "      <td>NaN</td>\n",
              "      <td>NaN</td>\n",
              "      <td>NaN</td>\n",
              "      <td>NaN</td>\n",
              "      <td>NaN</td>\n",
              "      <td>NaN</td>\n",
              "      <td>2275</td>\n",
              "    </tr>\n",
              "    <tr>\n",
              "      <th>4</th>\n",
              "      <td>0</td>\n",
              "      <td>29</td>\n",
              "      <td>2</td>\n",
              "      <td>7</td>\n",
              "      <td>16</td>\n",
              "      <td>7</td>\n",
              "      <td>7.0</td>\n",
              "      <td>10</td>\n",
              "      <td>5</td>\n",
              "      <td>162.0</td>\n",
              "      <td>...</td>\n",
              "      <td>NaN</td>\n",
              "      <td>NaN</td>\n",
              "      <td>NaN</td>\n",
              "      <td>NaN</td>\n",
              "      <td>NaN</td>\n",
              "      <td>NaN</td>\n",
              "      <td>NaN</td>\n",
              "      <td>NaN</td>\n",
              "      <td>NaN</td>\n",
              "      <td>1052</td>\n",
              "    </tr>\n",
              "  </tbody>\n",
              "</table>\n",
              "<p>5 rows × 191 columns</p>\n",
              "</div>\n",
              "      <button class=\"colab-df-convert\" onclick=\"convertToInteractive('df-97fcd19d-fa77-4072-b1cd-dc6d58f74386')\"\n",
              "              title=\"Convert this dataframe to an interactive table.\"\n",
              "              style=\"display:none;\">\n",
              "        \n",
              "  <svg xmlns=\"http://www.w3.org/2000/svg\" height=\"24px\"viewBox=\"0 0 24 24\"\n",
              "       width=\"24px\">\n",
              "    <path d=\"M0 0h24v24H0V0z\" fill=\"none\"/>\n",
              "    <path d=\"M18.56 5.44l.94 2.06.94-2.06 2.06-.94-2.06-.94-.94-2.06-.94 2.06-2.06.94zm-11 1L8.5 8.5l.94-2.06 2.06-.94-2.06-.94L8.5 2.5l-.94 2.06-2.06.94zm10 10l.94 2.06.94-2.06 2.06-.94-2.06-.94-.94-2.06-.94 2.06-2.06.94z\"/><path d=\"M17.41 7.96l-1.37-1.37c-.4-.4-.92-.59-1.43-.59-.52 0-1.04.2-1.43.59L10.3 9.45l-7.72 7.72c-.78.78-.78 2.05 0 2.83L4 21.41c.39.39.9.59 1.41.59.51 0 1.02-.2 1.41-.59l7.78-7.78 2.81-2.81c.8-.78.8-2.07 0-2.86zM5.41 20L4 18.59l7.72-7.72 1.47 1.35L5.41 20z\"/>\n",
              "  </svg>\n",
              "      </button>\n",
              "      \n",
              "  <style>\n",
              "    .colab-df-container {\n",
              "      display:flex;\n",
              "      flex-wrap:wrap;\n",
              "      gap: 12px;\n",
              "    }\n",
              "\n",
              "    .colab-df-convert {\n",
              "      background-color: #E8F0FE;\n",
              "      border: none;\n",
              "      border-radius: 50%;\n",
              "      cursor: pointer;\n",
              "      display: none;\n",
              "      fill: #1967D2;\n",
              "      height: 32px;\n",
              "      padding: 0 0 0 0;\n",
              "      width: 32px;\n",
              "    }\n",
              "\n",
              "    .colab-df-convert:hover {\n",
              "      background-color: #E2EBFA;\n",
              "      box-shadow: 0px 1px 2px rgba(60, 64, 67, 0.3), 0px 1px 3px 1px rgba(60, 64, 67, 0.15);\n",
              "      fill: #174EA6;\n",
              "    }\n",
              "\n",
              "    [theme=dark] .colab-df-convert {\n",
              "      background-color: #3B4455;\n",
              "      fill: #D2E3FC;\n",
              "    }\n",
              "\n",
              "    [theme=dark] .colab-df-convert:hover {\n",
              "      background-color: #434B5C;\n",
              "      box-shadow: 0px 1px 3px 1px rgba(0, 0, 0, 0.15);\n",
              "      filter: drop-shadow(0px 1px 2px rgba(0, 0, 0, 0.3));\n",
              "      fill: #FFFFFF;\n",
              "    }\n",
              "  </style>\n",
              "\n",
              "      <script>\n",
              "        const buttonEl =\n",
              "          document.querySelector('#df-97fcd19d-fa77-4072-b1cd-dc6d58f74386 button.colab-df-convert');\n",
              "        buttonEl.style.display =\n",
              "          google.colab.kernel.accessAllowed ? 'block' : 'none';\n",
              "\n",
              "        async function convertToInteractive(key) {\n",
              "          const element = document.querySelector('#df-97fcd19d-fa77-4072-b1cd-dc6d58f74386');\n",
              "          const dataTable =\n",
              "            await google.colab.kernel.invokeFunction('convertToInteractive',\n",
              "                                                     [key], {});\n",
              "          if (!dataTable) return;\n",
              "\n",
              "          const docLinkHtml = 'Like what you see? Visit the ' +\n",
              "            '<a target=\"_blank\" href=https://colab.research.google.com/notebooks/data_table.ipynb>data table notebook</a>'\n",
              "            + ' to learn more about interactive tables.';\n",
              "          element.innerHTML = '';\n",
              "          dataTable['output_type'] = 'display_data';\n",
              "          await google.colab.output.renderOutput(dataTable, element);\n",
              "          const docLink = document.createElement('div');\n",
              "          docLink.innerHTML = docLinkHtml;\n",
              "          element.appendChild(docLink);\n",
              "        }\n",
              "      </script>\n",
              "    </div>\n",
              "  </div>\n",
              "  "
            ]
          },
          "metadata": {},
          "execution_count": 4
        }
      ]
    },
    {
      "cell_type": "code",
      "source": [
        "# show the training data shape\n",
        "df_train.shape"
      ],
      "metadata": {
        "colab": {
          "base_uri": "https://localhost:8080/"
        },
        "id": "tFicdvFJwVSa",
        "outputId": "1a67a6bc-2c37-401b-feeb-1af2b123153c"
      },
      "execution_count": null,
      "outputs": [
        {
          "output_type": "execute_result",
          "data": {
            "text/plain": [
              "(5909, 192)"
            ]
          },
          "metadata": {},
          "execution_count": 5
        }
      ]
    },
    {
      "cell_type": "code",
      "source": [
        "# show the testing data shape\n",
        "df_test.shape"
      ],
      "metadata": {
        "colab": {
          "base_uri": "https://localhost:8080/"
        },
        "id": "aX8VEgOWwXW6",
        "outputId": "36fba732-d1b3-48b4-cc44-2e196be33aff"
      },
      "execution_count": null,
      "outputs": [
        {
          "output_type": "execute_result",
          "data": {
            "text/plain": [
              "(2469, 191)"
            ]
          },
          "metadata": {},
          "execution_count": 6
        }
      ]
    },
    {
      "cell_type": "code",
      "source": [
        "# #import train and test data and merge them together for perprocessing step..\n",
        "# df_train = pd.read_csv('/content/train.csv', index_col='id')\n",
        "# df_test = pd.read_csv('/content/test.csv', index_col='id')\n",
        "# data =pd.concat([df_train,df_test])"
      ],
      "metadata": {
        "id": "NtCcXCsj9OpW"
      },
      "execution_count": null,
      "outputs": []
    },
    {
      "cell_type": "markdown",
      "source": [
        "#check the null values \n",
        "Checking for null values and initializing them is a necessary step in the implementation of a ruleset, because input objects might be null or contain null values"
      ],
      "metadata": {
        "id": "15xWGeyVwbp7"
      }
    },
    {
      "cell_type": "code",
      "source": [
        "# check the null values in training data\n",
        "df_train.isnull().sum().sort_values(ascending=True)"
      ],
      "metadata": {
        "colab": {
          "base_uri": "https://localhost:8080/"
        },
        "id": "4cpSKIkGwYs6",
        "outputId": "a417f60e-16f1-4c18-9088-fb4636580a43"
      },
      "execution_count": null,
      "outputs": [
        {
          "output_type": "execute_result",
          "data": {
            "text/plain": [
              "gender         0\n",
              "samerace       0\n",
              "match          0\n",
              "partner        0\n",
              "order          0\n",
              "            ... \n",
              "sinc7_2     4519\n",
              "amb7_2      4519\n",
              "expnum      4627\n",
              "numdat_3    4849\n",
              "num_in_3    5449\n",
              "Length: 192, dtype: int64"
            ]
          },
          "metadata": {},
          "execution_count": 9
        }
      ]
    },
    {
      "cell_type": "code",
      "source": [
        "# show the sum of null values in rating \n",
        "df_train.isna().sum().sum()"
      ],
      "metadata": {
        "colab": {
          "base_uri": "https://localhost:8080/"
        },
        "id": "8ADmsnuwwhBa",
        "outputId": "1662f67d-f55f-4d3a-c54f-201fe3300d34"
      },
      "execution_count": null,
      "outputs": [
        {
          "output_type": "execute_result",
          "data": {
            "text/plain": [
              "304971"
            ]
          },
          "metadata": {},
          "execution_count": 10
        }
      ]
    },
    {
      "cell_type": "code",
      "source": [
        "#display training data information\n",
        "df_train.info()"
      ],
      "metadata": {
        "colab": {
          "base_uri": "https://localhost:8080/"
        },
        "id": "wKZT_4ZWwiy6",
        "outputId": "29dee5a8-ff3d-42cb-b8b4-06442fa0029b"
      },
      "execution_count": null,
      "outputs": [
        {
          "output_type": "stream",
          "name": "stdout",
          "text": [
            "<class 'pandas.core.frame.DataFrame'>\n",
            "RangeIndex: 5909 entries, 0 to 5908\n",
            "Columns: 192 entries, gender to id\n",
            "dtypes: float64(173), int64(11), object(8)\n",
            "memory usage: 8.7+ MB\n"
          ]
        }
      ]
    },
    {
      "cell_type": "code",
      "source": [
        "#extract numeric features and categorical features names\n",
        "#for later use\n",
        "# numeric features can be selected by: (based on the df_train.info() output )\n",
        "features_numeric = list(df_train.select_dtypes(include=['float64', 'int64']))\n",
        "\n",
        "# categorical features can be selected by: (based on the df_train.info() output )\n",
        "features_categorical = list(df_train.select_dtypes(include=['category']))\n",
        "\n",
        "print('numeric features:', features_numeric)\n",
        "print('categorical features:', features_categorical)"
      ],
      "metadata": {
        "colab": {
          "base_uri": "https://localhost:8080/"
        },
        "id": "S73jRSaKGfBC",
        "outputId": "8f22880d-23ab-4e2f-8b19-368d71e8f1ec"
      },
      "execution_count": null,
      "outputs": [
        {
          "output_type": "stream",
          "name": "stdout",
          "text": [
            "numeric features: ['gender', 'idg', 'condtn', 'wave', 'round', 'position', 'positin1', 'order', 'partner', 'pid', 'match', 'int_corr', 'samerace', 'age_o', 'race_o', 'pf_o_att', 'pf_o_sin', 'pf_o_int', 'pf_o_fun', 'pf_o_amb', 'pf_o_sha', 'attr_o', 'sinc_o', 'intel_o', 'fun_o', 'amb_o', 'shar_o', 'like_o', 'prob_o', 'met_o', 'age', 'field_cd', 'race', 'imprace', 'imprelig', 'goal', 'date', 'go_out', 'career_c', 'sports', 'tvsports', 'exercise', 'dining', 'museums', 'art', 'hiking', 'gaming', 'clubbing', 'reading', 'tv', 'theater', 'movies', 'concerts', 'music', 'shopping', 'yoga', 'exphappy', 'expnum', 'attr1_1', 'sinc1_1', 'intel1_1', 'fun1_1', 'amb1_1', 'shar1_1', 'attr4_1', 'sinc4_1', 'intel4_1', 'fun4_1', 'amb4_1', 'shar4_1', 'attr2_1', 'sinc2_1', 'intel2_1', 'fun2_1', 'amb2_1', 'shar2_1', 'attr3_1', 'sinc3_1', 'fun3_1', 'intel3_1', 'amb3_1', 'attr5_1', 'sinc5_1', 'intel5_1', 'fun5_1', 'amb5_1', 'attr', 'sinc', 'intel', 'fun', 'amb', 'shar', 'like', 'prob', 'met', 'match_es', 'attr1_s', 'sinc1_s', 'intel1_s', 'fun1_s', 'amb1_s', 'shar1_s', 'attr3_s', 'sinc3_s', 'intel3_s', 'fun3_s', 'amb3_s', 'satis_2', 'length', 'numdat_2', 'attr7_2', 'sinc7_2', 'intel7_2', 'fun7_2', 'amb7_2', 'shar7_2', 'attr1_2', 'sinc1_2', 'intel1_2', 'fun1_2', 'amb1_2', 'shar1_2', 'attr4_2', 'sinc4_2', 'intel4_2', 'fun4_2', 'amb4_2', 'shar4_2', 'attr2_2', 'sinc2_2', 'intel2_2', 'fun2_2', 'amb2_2', 'shar2_2', 'attr3_2', 'sinc3_2', 'intel3_2', 'fun3_2', 'amb3_2', 'attr5_2', 'sinc5_2', 'intel5_2', 'fun5_2', 'amb5_2', 'you_call', 'them_cal', 'date_3', 'numdat_3', 'num_in_3', 'attr1_3', 'sinc1_3', 'intel1_3', 'fun1_3', 'amb1_3', 'shar1_3', 'attr7_3', 'sinc7_3', 'intel7_3', 'fun7_3', 'amb7_3', 'shar7_3', 'attr4_3', 'sinc4_3', 'intel4_3', 'fun4_3', 'amb4_3', 'shar4_3', 'attr2_3', 'sinc2_3', 'intel2_3', 'fun2_3', 'amb2_3', 'shar2_3', 'attr3_3', 'sinc3_3', 'intel3_3', 'fun3_3', 'amb3_3', 'attr5_3', 'sinc5_3', 'intel5_3', 'fun5_3', 'amb5_3', 'id']\n",
            "categorical features: []\n"
          ]
        }
      ]
    },
    {
      "cell_type": "code",
      "source": [
        "# check the null values in testing data\n",
        "df_test.isnull().sum().sort_values(ascending=True)"
      ],
      "metadata": {
        "colab": {
          "base_uri": "https://localhost:8080/"
        },
        "id": "4dWfcroEw4eJ",
        "outputId": "4486b440-a305-414f-a567-db0356163fdf"
      },
      "execution_count": null,
      "outputs": [
        {
          "output_type": "execute_result",
          "data": {
            "text/plain": [
              "gender         0\n",
              "samerace       0\n",
              "partner        0\n",
              "order          0\n",
              "position       0\n",
              "            ... \n",
              "amb7_2      1904\n",
              "sinc7_2     1904\n",
              "expnum      1951\n",
              "numdat_3    2033\n",
              "num_in_3    2261\n",
              "Length: 191, dtype: int64"
            ]
          },
          "metadata": {},
          "execution_count": 13
        }
      ]
    },
    {
      "cell_type": "code",
      "source": [
        "# show the sum of null values in rating \n",
        "df_test.isna().sum().sum()"
      ],
      "metadata": {
        "colab": {
          "base_uri": "https://localhost:8080/"
        },
        "id": "No-Y1uttw6Kh",
        "outputId": "c4c2cecf-447e-4a60-fcb5-43b40fe50bbf"
      },
      "execution_count": null,
      "outputs": [
        {
          "output_type": "execute_result",
          "data": {
            "text/plain": [
              "127044"
            ]
          },
          "metadata": {},
          "execution_count": 14
        }
      ]
    },
    {
      "cell_type": "code",
      "source": [
        "#display testing data information\n",
        "df_test.info()"
      ],
      "metadata": {
        "colab": {
          "base_uri": "https://localhost:8080/"
        },
        "id": "NNNHZEScw7m0",
        "outputId": "aafd3c3c-4e8f-4df3-fd97-0edb7ad46813"
      },
      "execution_count": null,
      "outputs": [
        {
          "output_type": "stream",
          "name": "stdout",
          "text": [
            "<class 'pandas.core.frame.DataFrame'>\n",
            "RangeIndex: 2469 entries, 0 to 2468\n",
            "Columns: 191 entries, gender to id\n",
            "dtypes: float64(173), int64(10), object(8)\n",
            "memory usage: 3.6+ MB\n"
          ]
        }
      ]
    },
    {
      "cell_type": "code",
      "source": [
        "#extract numeric features and categorical features names\n",
        "#for later use\n",
        "# numeric features can be selected by: (based on the df_test.info() output )\n",
        "features_numeric = list(df_train.select_dtypes(include=['float64', 'int64']))\n",
        "\n",
        "# categorical features can be selected by: (based on the df_test.info() output )\n",
        "features_categorical = list(df_train.select_dtypes(include=['category']))\n",
        "\n",
        "print('numeric features:', features_numeric)\n",
        "print('categorical features:', features_categorical)"
      ],
      "metadata": {
        "colab": {
          "base_uri": "https://localhost:8080/"
        },
        "id": "kTZS_ZWJKvok",
        "outputId": "e74763dd-ded0-4c0a-b8a9-183215c7a6aa"
      },
      "execution_count": null,
      "outputs": [
        {
          "output_type": "stream",
          "name": "stdout",
          "text": [
            "numeric features: ['gender', 'idg', 'condtn', 'wave', 'round', 'position', 'positin1', 'order', 'partner', 'pid', 'match', 'int_corr', 'samerace', 'age_o', 'race_o', 'pf_o_att', 'pf_o_sin', 'pf_o_int', 'pf_o_fun', 'pf_o_amb', 'pf_o_sha', 'attr_o', 'sinc_o', 'intel_o', 'fun_o', 'amb_o', 'shar_o', 'like_o', 'prob_o', 'met_o', 'age', 'field_cd', 'race', 'imprace', 'imprelig', 'goal', 'date', 'go_out', 'career_c', 'sports', 'tvsports', 'exercise', 'dining', 'museums', 'art', 'hiking', 'gaming', 'clubbing', 'reading', 'tv', 'theater', 'movies', 'concerts', 'music', 'shopping', 'yoga', 'exphappy', 'expnum', 'attr1_1', 'sinc1_1', 'intel1_1', 'fun1_1', 'amb1_1', 'shar1_1', 'attr4_1', 'sinc4_1', 'intel4_1', 'fun4_1', 'amb4_1', 'shar4_1', 'attr2_1', 'sinc2_1', 'intel2_1', 'fun2_1', 'amb2_1', 'shar2_1', 'attr3_1', 'sinc3_1', 'fun3_1', 'intel3_1', 'amb3_1', 'attr5_1', 'sinc5_1', 'intel5_1', 'fun5_1', 'amb5_1', 'attr', 'sinc', 'intel', 'fun', 'amb', 'shar', 'like', 'prob', 'met', 'match_es', 'attr1_s', 'sinc1_s', 'intel1_s', 'fun1_s', 'amb1_s', 'shar1_s', 'attr3_s', 'sinc3_s', 'intel3_s', 'fun3_s', 'amb3_s', 'satis_2', 'length', 'numdat_2', 'attr7_2', 'sinc7_2', 'intel7_2', 'fun7_2', 'amb7_2', 'shar7_2', 'attr1_2', 'sinc1_2', 'intel1_2', 'fun1_2', 'amb1_2', 'shar1_2', 'attr4_2', 'sinc4_2', 'intel4_2', 'fun4_2', 'amb4_2', 'shar4_2', 'attr2_2', 'sinc2_2', 'intel2_2', 'fun2_2', 'amb2_2', 'shar2_2', 'attr3_2', 'sinc3_2', 'intel3_2', 'fun3_2', 'amb3_2', 'attr5_2', 'sinc5_2', 'intel5_2', 'fun5_2', 'amb5_2', 'you_call', 'them_cal', 'date_3', 'numdat_3', 'num_in_3', 'attr1_3', 'sinc1_3', 'intel1_3', 'fun1_3', 'amb1_3', 'shar1_3', 'attr7_3', 'sinc7_3', 'intel7_3', 'fun7_3', 'amb7_3', 'shar7_3', 'attr4_3', 'sinc4_3', 'intel4_3', 'fun4_3', 'amb4_3', 'shar4_3', 'attr2_3', 'sinc2_3', 'intel2_3', 'fun2_3', 'amb2_3', 'shar2_3', 'attr3_3', 'sinc3_3', 'intel3_3', 'fun3_3', 'amb3_3', 'attr5_3', 'sinc5_3', 'intel5_3', 'fun5_3', 'amb5_3', 'id']\n",
            "categorical features: []\n"
          ]
        }
      ]
    },
    {
      "cell_type": "code",
      "source": [
        "# Below code gives percentage of null in every column\n",
        "null_percentage = df_train.isnull().sum()/df_train.shape[0]*100\n",
        "null_percentage\n"
      ],
      "metadata": {
        "id": "2KPugSy9DgX5",
        "colab": {
          "base_uri": "https://localhost:8080/"
        },
        "outputId": "7404e47a-dacc-453e-b98c-009f65e59835"
      },
      "execution_count": null,
      "outputs": [
        {
          "output_type": "execute_result",
          "data": {
            "text/plain": [
              "gender       0.000000\n",
              "idg          0.000000\n",
              "condtn       0.000000\n",
              "wave         0.000000\n",
              "round        0.000000\n",
              "              ...    \n",
              "sinc5_3     76.087324\n",
              "intel5_3    76.087324\n",
              "fun5_3      76.087324\n",
              "amb5_3      76.087324\n",
              "id           0.000000\n",
              "Length: 192, dtype: float64"
            ]
          },
          "metadata": {},
          "execution_count": 17
        }
      ]
    },
    {
      "cell_type": "code",
      "source": [
        "# Below code gives list of columns having more than 60% null\n",
        "col_to_drop = null_percentage[null_percentage>60].keys()\n",
        "col_to_drop"
      ],
      "metadata": {
        "id": "XuT-eogADizp",
        "colab": {
          "base_uri": "https://localhost:8080/"
        },
        "outputId": "2b4ac5c2-9ff2-49ba-aca2-64772143ef8b"
      },
      "execution_count": null,
      "outputs": [
        {
          "output_type": "execute_result",
          "data": {
            "text/plain": [
              "Index(['mn_sat', 'expnum', 'attr7_2', 'sinc7_2', 'intel7_2', 'fun7_2',\n",
              "       'amb7_2', 'shar7_2', 'numdat_3', 'num_in_3', 'attr7_3', 'sinc7_3',\n",
              "       'intel7_3', 'fun7_3', 'amb7_3', 'shar7_3', 'attr4_3', 'sinc4_3',\n",
              "       'intel4_3', 'fun4_3', 'amb4_3', 'shar4_3', 'attr2_3', 'sinc2_3',\n",
              "       'intel2_3', 'fun2_3', 'amb2_3', 'shar2_3', 'attr5_3', 'sinc5_3',\n",
              "       'intel5_3', 'fun5_3', 'amb5_3'],\n",
              "      dtype='object')"
            ]
          },
          "metadata": {},
          "execution_count": 18
        }
      ]
    },
    {
      "cell_type": "code",
      "source": [
        "#training data after removing the nulls that more than 60 percent in each column\n",
        "df_train = df_train.drop(col_to_drop, axis=1)\n",
        "df_train"
      ],
      "metadata": {
        "colab": {
          "base_uri": "https://localhost:8080/",
          "height": 423
        },
        "id": "hQXs1m2eDokx",
        "outputId": "c67c16d8-caa2-454f-d5b5-c6c29d46c29b"
      },
      "execution_count": null,
      "outputs": [
        {
          "output_type": "execute_result",
          "data": {
            "text/plain": [
              "      gender  idg  condtn  wave  round  position  positin1  order  partner  \\\n",
              "0          0    3       2    14     18         2       2.0     14       12   \n",
              "1          1   14       1     3     10         2       NaN      8        8   \n",
              "2          1   14       1    13     10         8       8.0     10       10   \n",
              "3          1   38       2     9     20        18      13.0      6        7   \n",
              "4          1   24       2    14     20         6       6.0     20       17   \n",
              "...      ...  ...     ...   ...    ...       ...       ...    ...      ...   \n",
              "5904       0    1       2     9     20         2       2.0     18        1   \n",
              "5905       1   24       2     9     20        19      15.0      5        6   \n",
              "5906       0   13       2    11     21         5       5.0      3       18   \n",
              "5907       1   10       2     7     16         6      14.0      9       10   \n",
              "5908       0    7       2    21     22         7       7.0      2       12   \n",
              "\n",
              "        pid  ...  intel1_3  fun1_3  amb1_3  shar1_3  attr3_3  sinc3_3  \\\n",
              "0     372.0  ...       NaN     NaN     NaN      NaN      NaN      NaN   \n",
              "1      63.0  ...     15.00   20.00   10.00    15.00      6.0      8.0   \n",
              "2     331.0  ...       NaN     NaN     NaN      NaN      NaN      NaN   \n",
              "3     200.0  ...     18.37   18.37   14.29    14.29      8.0      9.0   \n",
              "4     357.0  ...       NaN     NaN     NaN      NaN      NaN      NaN   \n",
              "...     ...  ...       ...     ...     ...      ...      ...      ...   \n",
              "5904  214.0  ...     18.87   15.09   16.98    13.21     12.0     12.0   \n",
              "5905  199.0  ...       NaN     NaN     NaN      NaN      NaN      NaN   \n",
              "5906  290.0  ...       NaN     NaN     NaN      NaN      NaN      NaN   \n",
              "5907  151.0  ...       NaN     NaN     NaN      NaN      NaN      NaN   \n",
              "5908  542.0  ...       NaN     NaN     NaN      NaN      NaN      NaN   \n",
              "\n",
              "      intel3_3  fun3_3  amb3_3    id  \n",
              "0          NaN     NaN     NaN  2583  \n",
              "1          8.0     7.0     8.0  6830  \n",
              "2          NaN     NaN     NaN  4840  \n",
              "3          8.0     8.0     6.0  5508  \n",
              "4          NaN     NaN     NaN  4828  \n",
              "...        ...     ...     ...   ...  \n",
              "5904      12.0     9.0    12.0  3390  \n",
              "5905       NaN     NaN     NaN  4130  \n",
              "5906       NaN     NaN     NaN  1178  \n",
              "5907       NaN     NaN     NaN  5016  \n",
              "5908       NaN     NaN     NaN  8149  \n",
              "\n",
              "[5909 rows x 159 columns]"
            ],
            "text/html": [
              "\n",
              "  <div id=\"df-7a1e59d7-cab0-43b3-9205-907b49dff245\">\n",
              "    <div class=\"colab-df-container\">\n",
              "      <div>\n",
              "<style scoped>\n",
              "    .dataframe tbody tr th:only-of-type {\n",
              "        vertical-align: middle;\n",
              "    }\n",
              "\n",
              "    .dataframe tbody tr th {\n",
              "        vertical-align: top;\n",
              "    }\n",
              "\n",
              "    .dataframe thead th {\n",
              "        text-align: right;\n",
              "    }\n",
              "</style>\n",
              "<table border=\"1\" class=\"dataframe\">\n",
              "  <thead>\n",
              "    <tr style=\"text-align: right;\">\n",
              "      <th></th>\n",
              "      <th>gender</th>\n",
              "      <th>idg</th>\n",
              "      <th>condtn</th>\n",
              "      <th>wave</th>\n",
              "      <th>round</th>\n",
              "      <th>position</th>\n",
              "      <th>positin1</th>\n",
              "      <th>order</th>\n",
              "      <th>partner</th>\n",
              "      <th>pid</th>\n",
              "      <th>...</th>\n",
              "      <th>intel1_3</th>\n",
              "      <th>fun1_3</th>\n",
              "      <th>amb1_3</th>\n",
              "      <th>shar1_3</th>\n",
              "      <th>attr3_3</th>\n",
              "      <th>sinc3_3</th>\n",
              "      <th>intel3_3</th>\n",
              "      <th>fun3_3</th>\n",
              "      <th>amb3_3</th>\n",
              "      <th>id</th>\n",
              "    </tr>\n",
              "  </thead>\n",
              "  <tbody>\n",
              "    <tr>\n",
              "      <th>0</th>\n",
              "      <td>0</td>\n",
              "      <td>3</td>\n",
              "      <td>2</td>\n",
              "      <td>14</td>\n",
              "      <td>18</td>\n",
              "      <td>2</td>\n",
              "      <td>2.0</td>\n",
              "      <td>14</td>\n",
              "      <td>12</td>\n",
              "      <td>372.0</td>\n",
              "      <td>...</td>\n",
              "      <td>NaN</td>\n",
              "      <td>NaN</td>\n",
              "      <td>NaN</td>\n",
              "      <td>NaN</td>\n",
              "      <td>NaN</td>\n",
              "      <td>NaN</td>\n",
              "      <td>NaN</td>\n",
              "      <td>NaN</td>\n",
              "      <td>NaN</td>\n",
              "      <td>2583</td>\n",
              "    </tr>\n",
              "    <tr>\n",
              "      <th>1</th>\n",
              "      <td>1</td>\n",
              "      <td>14</td>\n",
              "      <td>1</td>\n",
              "      <td>3</td>\n",
              "      <td>10</td>\n",
              "      <td>2</td>\n",
              "      <td>NaN</td>\n",
              "      <td>8</td>\n",
              "      <td>8</td>\n",
              "      <td>63.0</td>\n",
              "      <td>...</td>\n",
              "      <td>15.00</td>\n",
              "      <td>20.00</td>\n",
              "      <td>10.00</td>\n",
              "      <td>15.00</td>\n",
              "      <td>6.0</td>\n",
              "      <td>8.0</td>\n",
              "      <td>8.0</td>\n",
              "      <td>7.0</td>\n",
              "      <td>8.0</td>\n",
              "      <td>6830</td>\n",
              "    </tr>\n",
              "    <tr>\n",
              "      <th>2</th>\n",
              "      <td>1</td>\n",
              "      <td>14</td>\n",
              "      <td>1</td>\n",
              "      <td>13</td>\n",
              "      <td>10</td>\n",
              "      <td>8</td>\n",
              "      <td>8.0</td>\n",
              "      <td>10</td>\n",
              "      <td>10</td>\n",
              "      <td>331.0</td>\n",
              "      <td>...</td>\n",
              "      <td>NaN</td>\n",
              "      <td>NaN</td>\n",
              "      <td>NaN</td>\n",
              "      <td>NaN</td>\n",
              "      <td>NaN</td>\n",
              "      <td>NaN</td>\n",
              "      <td>NaN</td>\n",
              "      <td>NaN</td>\n",
              "      <td>NaN</td>\n",
              "      <td>4840</td>\n",
              "    </tr>\n",
              "    <tr>\n",
              "      <th>3</th>\n",
              "      <td>1</td>\n",
              "      <td>38</td>\n",
              "      <td>2</td>\n",
              "      <td>9</td>\n",
              "      <td>20</td>\n",
              "      <td>18</td>\n",
              "      <td>13.0</td>\n",
              "      <td>6</td>\n",
              "      <td>7</td>\n",
              "      <td>200.0</td>\n",
              "      <td>...</td>\n",
              "      <td>18.37</td>\n",
              "      <td>18.37</td>\n",
              "      <td>14.29</td>\n",
              "      <td>14.29</td>\n",
              "      <td>8.0</td>\n",
              "      <td>9.0</td>\n",
              "      <td>8.0</td>\n",
              "      <td>8.0</td>\n",
              "      <td>6.0</td>\n",
              "      <td>5508</td>\n",
              "    </tr>\n",
              "    <tr>\n",
              "      <th>4</th>\n",
              "      <td>1</td>\n",
              "      <td>24</td>\n",
              "      <td>2</td>\n",
              "      <td>14</td>\n",
              "      <td>20</td>\n",
              "      <td>6</td>\n",
              "      <td>6.0</td>\n",
              "      <td>20</td>\n",
              "      <td>17</td>\n",
              "      <td>357.0</td>\n",
              "      <td>...</td>\n",
              "      <td>NaN</td>\n",
              "      <td>NaN</td>\n",
              "      <td>NaN</td>\n",
              "      <td>NaN</td>\n",
              "      <td>NaN</td>\n",
              "      <td>NaN</td>\n",
              "      <td>NaN</td>\n",
              "      <td>NaN</td>\n",
              "      <td>NaN</td>\n",
              "      <td>4828</td>\n",
              "    </tr>\n",
              "    <tr>\n",
              "      <th>...</th>\n",
              "      <td>...</td>\n",
              "      <td>...</td>\n",
              "      <td>...</td>\n",
              "      <td>...</td>\n",
              "      <td>...</td>\n",
              "      <td>...</td>\n",
              "      <td>...</td>\n",
              "      <td>...</td>\n",
              "      <td>...</td>\n",
              "      <td>...</td>\n",
              "      <td>...</td>\n",
              "      <td>...</td>\n",
              "      <td>...</td>\n",
              "      <td>...</td>\n",
              "      <td>...</td>\n",
              "      <td>...</td>\n",
              "      <td>...</td>\n",
              "      <td>...</td>\n",
              "      <td>...</td>\n",
              "      <td>...</td>\n",
              "      <td>...</td>\n",
              "    </tr>\n",
              "    <tr>\n",
              "      <th>5904</th>\n",
              "      <td>0</td>\n",
              "      <td>1</td>\n",
              "      <td>2</td>\n",
              "      <td>9</td>\n",
              "      <td>20</td>\n",
              "      <td>2</td>\n",
              "      <td>2.0</td>\n",
              "      <td>18</td>\n",
              "      <td>1</td>\n",
              "      <td>214.0</td>\n",
              "      <td>...</td>\n",
              "      <td>18.87</td>\n",
              "      <td>15.09</td>\n",
              "      <td>16.98</td>\n",
              "      <td>13.21</td>\n",
              "      <td>12.0</td>\n",
              "      <td>12.0</td>\n",
              "      <td>12.0</td>\n",
              "      <td>9.0</td>\n",
              "      <td>12.0</td>\n",
              "      <td>3390</td>\n",
              "    </tr>\n",
              "    <tr>\n",
              "      <th>5905</th>\n",
              "      <td>1</td>\n",
              "      <td>24</td>\n",
              "      <td>2</td>\n",
              "      <td>9</td>\n",
              "      <td>20</td>\n",
              "      <td>19</td>\n",
              "      <td>15.0</td>\n",
              "      <td>5</td>\n",
              "      <td>6</td>\n",
              "      <td>199.0</td>\n",
              "      <td>...</td>\n",
              "      <td>NaN</td>\n",
              "      <td>NaN</td>\n",
              "      <td>NaN</td>\n",
              "      <td>NaN</td>\n",
              "      <td>NaN</td>\n",
              "      <td>NaN</td>\n",
              "      <td>NaN</td>\n",
              "      <td>NaN</td>\n",
              "      <td>NaN</td>\n",
              "      <td>4130</td>\n",
              "    </tr>\n",
              "    <tr>\n",
              "      <th>5906</th>\n",
              "      <td>0</td>\n",
              "      <td>13</td>\n",
              "      <td>2</td>\n",
              "      <td>11</td>\n",
              "      <td>21</td>\n",
              "      <td>5</td>\n",
              "      <td>5.0</td>\n",
              "      <td>3</td>\n",
              "      <td>18</td>\n",
              "      <td>290.0</td>\n",
              "      <td>...</td>\n",
              "      <td>NaN</td>\n",
              "      <td>NaN</td>\n",
              "      <td>NaN</td>\n",
              "      <td>NaN</td>\n",
              "      <td>NaN</td>\n",
              "      <td>NaN</td>\n",
              "      <td>NaN</td>\n",
              "      <td>NaN</td>\n",
              "      <td>NaN</td>\n",
              "      <td>1178</td>\n",
              "    </tr>\n",
              "    <tr>\n",
              "      <th>5907</th>\n",
              "      <td>1</td>\n",
              "      <td>10</td>\n",
              "      <td>2</td>\n",
              "      <td>7</td>\n",
              "      <td>16</td>\n",
              "      <td>6</td>\n",
              "      <td>14.0</td>\n",
              "      <td>9</td>\n",
              "      <td>10</td>\n",
              "      <td>151.0</td>\n",
              "      <td>...</td>\n",
              "      <td>NaN</td>\n",
              "      <td>NaN</td>\n",
              "      <td>NaN</td>\n",
              "      <td>NaN</td>\n",
              "      <td>NaN</td>\n",
              "      <td>NaN</td>\n",
              "      <td>NaN</td>\n",
              "      <td>NaN</td>\n",
              "      <td>NaN</td>\n",
              "      <td>5016</td>\n",
              "    </tr>\n",
              "    <tr>\n",
              "      <th>5908</th>\n",
              "      <td>0</td>\n",
              "      <td>7</td>\n",
              "      <td>2</td>\n",
              "      <td>21</td>\n",
              "      <td>22</td>\n",
              "      <td>7</td>\n",
              "      <td>7.0</td>\n",
              "      <td>2</td>\n",
              "      <td>12</td>\n",
              "      <td>542.0</td>\n",
              "      <td>...</td>\n",
              "      <td>NaN</td>\n",
              "      <td>NaN</td>\n",
              "      <td>NaN</td>\n",
              "      <td>NaN</td>\n",
              "      <td>NaN</td>\n",
              "      <td>NaN</td>\n",
              "      <td>NaN</td>\n",
              "      <td>NaN</td>\n",
              "      <td>NaN</td>\n",
              "      <td>8149</td>\n",
              "    </tr>\n",
              "  </tbody>\n",
              "</table>\n",
              "<p>5909 rows × 159 columns</p>\n",
              "</div>\n",
              "      <button class=\"colab-df-convert\" onclick=\"convertToInteractive('df-7a1e59d7-cab0-43b3-9205-907b49dff245')\"\n",
              "              title=\"Convert this dataframe to an interactive table.\"\n",
              "              style=\"display:none;\">\n",
              "        \n",
              "  <svg xmlns=\"http://www.w3.org/2000/svg\" height=\"24px\"viewBox=\"0 0 24 24\"\n",
              "       width=\"24px\">\n",
              "    <path d=\"M0 0h24v24H0V0z\" fill=\"none\"/>\n",
              "    <path d=\"M18.56 5.44l.94 2.06.94-2.06 2.06-.94-2.06-.94-.94-2.06-.94 2.06-2.06.94zm-11 1L8.5 8.5l.94-2.06 2.06-.94-2.06-.94L8.5 2.5l-.94 2.06-2.06.94zm10 10l.94 2.06.94-2.06 2.06-.94-2.06-.94-.94-2.06-.94 2.06-2.06.94z\"/><path d=\"M17.41 7.96l-1.37-1.37c-.4-.4-.92-.59-1.43-.59-.52 0-1.04.2-1.43.59L10.3 9.45l-7.72 7.72c-.78.78-.78 2.05 0 2.83L4 21.41c.39.39.9.59 1.41.59.51 0 1.02-.2 1.41-.59l7.78-7.78 2.81-2.81c.8-.78.8-2.07 0-2.86zM5.41 20L4 18.59l7.72-7.72 1.47 1.35L5.41 20z\"/>\n",
              "  </svg>\n",
              "      </button>\n",
              "      \n",
              "  <style>\n",
              "    .colab-df-container {\n",
              "      display:flex;\n",
              "      flex-wrap:wrap;\n",
              "      gap: 12px;\n",
              "    }\n",
              "\n",
              "    .colab-df-convert {\n",
              "      background-color: #E8F0FE;\n",
              "      border: none;\n",
              "      border-radius: 50%;\n",
              "      cursor: pointer;\n",
              "      display: none;\n",
              "      fill: #1967D2;\n",
              "      height: 32px;\n",
              "      padding: 0 0 0 0;\n",
              "      width: 32px;\n",
              "    }\n",
              "\n",
              "    .colab-df-convert:hover {\n",
              "      background-color: #E2EBFA;\n",
              "      box-shadow: 0px 1px 2px rgba(60, 64, 67, 0.3), 0px 1px 3px 1px rgba(60, 64, 67, 0.15);\n",
              "      fill: #174EA6;\n",
              "    }\n",
              "\n",
              "    [theme=dark] .colab-df-convert {\n",
              "      background-color: #3B4455;\n",
              "      fill: #D2E3FC;\n",
              "    }\n",
              "\n",
              "    [theme=dark] .colab-df-convert:hover {\n",
              "      background-color: #434B5C;\n",
              "      box-shadow: 0px 1px 3px 1px rgba(0, 0, 0, 0.15);\n",
              "      filter: drop-shadow(0px 1px 2px rgba(0, 0, 0, 0.3));\n",
              "      fill: #FFFFFF;\n",
              "    }\n",
              "  </style>\n",
              "\n",
              "      <script>\n",
              "        const buttonEl =\n",
              "          document.querySelector('#df-7a1e59d7-cab0-43b3-9205-907b49dff245 button.colab-df-convert');\n",
              "        buttonEl.style.display =\n",
              "          google.colab.kernel.accessAllowed ? 'block' : 'none';\n",
              "\n",
              "        async function convertToInteractive(key) {\n",
              "          const element = document.querySelector('#df-7a1e59d7-cab0-43b3-9205-907b49dff245');\n",
              "          const dataTable =\n",
              "            await google.colab.kernel.invokeFunction('convertToInteractive',\n",
              "                                                     [key], {});\n",
              "          if (!dataTable) return;\n",
              "\n",
              "          const docLinkHtml = 'Like what you see? Visit the ' +\n",
              "            '<a target=\"_blank\" href=https://colab.research.google.com/notebooks/data_table.ipynb>data table notebook</a>'\n",
              "            + ' to learn more about interactive tables.';\n",
              "          element.innerHTML = '';\n",
              "          dataTable['output_type'] = 'display_data';\n",
              "          await google.colab.output.renderOutput(dataTable, element);\n",
              "          const docLink = document.createElement('div');\n",
              "          docLink.innerHTML = docLinkHtml;\n",
              "          element.appendChild(docLink);\n",
              "        }\n",
              "      </script>\n",
              "    </div>\n",
              "  </div>\n",
              "  "
            ]
          },
          "metadata": {},
          "execution_count": 19
        }
      ]
    },
    {
      "cell_type": "code",
      "source": [
        "# show the sum of null values in rating \n",
        "df_train.isna().sum().sum()"
      ],
      "metadata": {
        "colab": {
          "base_uri": "https://localhost:8080/"
        },
        "id": "7D-MQ6FXxzcR",
        "outputId": "6f24cb03-7a45-41ea-f446-c52d53481719"
      },
      "execution_count": null,
      "outputs": [
        {
          "output_type": "execute_result",
          "data": {
            "text/plain": [
              "163165"
            ]
          },
          "metadata": {},
          "execution_count": 20
        }
      ]
    },
    {
      "cell_type": "code",
      "source": [
        "# Below code gives percentage of null in every column\n",
        "null_percentage = df_test.isnull().sum()/df_test.shape[0]*100\n",
        "null_percentage"
      ],
      "metadata": {
        "id": "_WwF94aBGAsl",
        "colab": {
          "base_uri": "https://localhost:8080/"
        },
        "outputId": "e7821cbe-7b94-4f47-c26a-ae5e7b7c732a"
      },
      "execution_count": null,
      "outputs": [
        {
          "output_type": "execute_result",
          "data": {
            "text/plain": [
              "gender       0.000000\n",
              "idg          0.000000\n",
              "condtn       0.000000\n",
              "wave         0.000000\n",
              "round        0.000000\n",
              "              ...    \n",
              "sinc3_3     52.612394\n",
              "intel3_3    52.612394\n",
              "fun3_3      52.612394\n",
              "amb3_3      52.612394\n",
              "id           0.000000\n",
              "Length: 158, dtype: float64"
            ]
          },
          "metadata": {},
          "execution_count": 33
        }
      ]
    },
    {
      "cell_type": "code",
      "source": [
        "# Below code gives list of columns having more than 60% null\n",
        "col_to_drop = null_percentage[null_percentage>60].keys()\n",
        "col_to_drop"
      ],
      "metadata": {
        "id": "fDHKBXBzGEQv",
        "colab": {
          "base_uri": "https://localhost:8080/"
        },
        "outputId": "0f897de9-18f4-42d4-bdd3-53374f9d94e7"
      },
      "execution_count": null,
      "outputs": [
        {
          "output_type": "execute_result",
          "data": {
            "text/plain": [
              "Index([], dtype='object')"
            ]
          },
          "metadata": {},
          "execution_count": 34
        }
      ]
    },
    {
      "cell_type": "code",
      "source": [
        "#testing data after removing the nulls that more than 60 percent in each column\n",
        "df_test = df_test.drop(col_to_drop, axis=1)\n",
        "df_test"
      ],
      "metadata": {
        "colab": {
          "base_uri": "https://localhost:8080/",
          "height": 423
        },
        "id": "gzs3a9WFGIkc",
        "outputId": "959d3d11-bde2-40ba-f360-24db764ae760"
      },
      "execution_count": null,
      "outputs": [
        {
          "output_type": "execute_result",
          "data": {
            "text/plain": [
              "      gender  idg  condtn  wave  round  position  positin1  order  partner  \\\n",
              "0          0    5       2     2     16         3       NaN     13       13   \n",
              "1          0   33       2    14     18         6       6.0      4        8   \n",
              "2          1    6       2     9     20        10      16.0     15       19   \n",
              "3          1   26       2     2     19        15       NaN      8       10   \n",
              "4          0   29       2     7     16         7       7.0     10        5   \n",
              "...      ...  ...     ...   ...    ...       ...       ...    ...      ...   \n",
              "2464       0   23       2    15     19        18      18.0     14       11   \n",
              "2465       0    5       1    13      9         4       4.0      4        8   \n",
              "2466       1   26       2     2     19         3       NaN     15        3   \n",
              "2467       0   19       2     9     20        11      11.0      9        2   \n",
              "2468       1   38       2    21     22        22       7.0     16        5   \n",
              "\n",
              "        pid  ...  intel1_3  fun1_3  amb1_3  shar1_3  attr3_3  sinc3_3  \\\n",
              "0      52.0  ...     30.00   15.00   10.00    10.00      5.0      7.0   \n",
              "1     368.0  ...     30.00   15.00   20.00     5.00      6.0      8.0   \n",
              "2     212.0  ...       NaN     NaN     NaN      NaN      NaN      NaN   \n",
              "3      30.0  ...       NaN     NaN     NaN      NaN      NaN      NaN   \n",
              "4     162.0  ...       NaN     NaN     NaN      NaN      NaN      NaN   \n",
              "...     ...  ...       ...     ...     ...      ...      ...      ...   \n",
              "2464  407.0  ...       NaN     NaN     NaN      NaN      NaN      NaN   \n",
              "2465  339.0  ...       NaN     NaN     NaN      NaN      NaN      NaN   \n",
              "2466   23.0  ...       NaN     NaN     NaN      NaN      NaN      NaN   \n",
              "2467  215.0  ...     20.41   20.41   18.37     6.12      9.0      7.0   \n",
              "2468  513.0  ...     20.00   30.00    5.00     5.00      7.0      9.0   \n",
              "\n",
              "      intel3_3  fun3_3  amb3_3    id  \n",
              "0          8.0     6.0     8.0   934  \n",
              "1          7.0     7.0     8.0  6539  \n",
              "2          NaN     NaN     NaN  6757  \n",
              "3          NaN     NaN     NaN  2275  \n",
              "4          NaN     NaN     NaN  1052  \n",
              "...        ...     ...     ...   ...  \n",
              "2464       NaN     NaN     NaN  7982  \n",
              "2465       NaN     NaN     NaN  7299  \n",
              "2466       NaN     NaN     NaN  1818  \n",
              "2467      12.0    12.0     9.0   937  \n",
              "2468       8.0     7.0     8.0  6691  \n",
              "\n",
              "[2469 rows x 158 columns]"
            ],
            "text/html": [
              "\n",
              "  <div id=\"df-c54ddedd-006e-432c-adf2-79635114fe88\">\n",
              "    <div class=\"colab-df-container\">\n",
              "      <div>\n",
              "<style scoped>\n",
              "    .dataframe tbody tr th:only-of-type {\n",
              "        vertical-align: middle;\n",
              "    }\n",
              "\n",
              "    .dataframe tbody tr th {\n",
              "        vertical-align: top;\n",
              "    }\n",
              "\n",
              "    .dataframe thead th {\n",
              "        text-align: right;\n",
              "    }\n",
              "</style>\n",
              "<table border=\"1\" class=\"dataframe\">\n",
              "  <thead>\n",
              "    <tr style=\"text-align: right;\">\n",
              "      <th></th>\n",
              "      <th>gender</th>\n",
              "      <th>idg</th>\n",
              "      <th>condtn</th>\n",
              "      <th>wave</th>\n",
              "      <th>round</th>\n",
              "      <th>position</th>\n",
              "      <th>positin1</th>\n",
              "      <th>order</th>\n",
              "      <th>partner</th>\n",
              "      <th>pid</th>\n",
              "      <th>...</th>\n",
              "      <th>intel1_3</th>\n",
              "      <th>fun1_3</th>\n",
              "      <th>amb1_3</th>\n",
              "      <th>shar1_3</th>\n",
              "      <th>attr3_3</th>\n",
              "      <th>sinc3_3</th>\n",
              "      <th>intel3_3</th>\n",
              "      <th>fun3_3</th>\n",
              "      <th>amb3_3</th>\n",
              "      <th>id</th>\n",
              "    </tr>\n",
              "  </thead>\n",
              "  <tbody>\n",
              "    <tr>\n",
              "      <th>0</th>\n",
              "      <td>0</td>\n",
              "      <td>5</td>\n",
              "      <td>2</td>\n",
              "      <td>2</td>\n",
              "      <td>16</td>\n",
              "      <td>3</td>\n",
              "      <td>NaN</td>\n",
              "      <td>13</td>\n",
              "      <td>13</td>\n",
              "      <td>52.0</td>\n",
              "      <td>...</td>\n",
              "      <td>30.00</td>\n",
              "      <td>15.00</td>\n",
              "      <td>10.00</td>\n",
              "      <td>10.00</td>\n",
              "      <td>5.0</td>\n",
              "      <td>7.0</td>\n",
              "      <td>8.0</td>\n",
              "      <td>6.0</td>\n",
              "      <td>8.0</td>\n",
              "      <td>934</td>\n",
              "    </tr>\n",
              "    <tr>\n",
              "      <th>1</th>\n",
              "      <td>0</td>\n",
              "      <td>33</td>\n",
              "      <td>2</td>\n",
              "      <td>14</td>\n",
              "      <td>18</td>\n",
              "      <td>6</td>\n",
              "      <td>6.0</td>\n",
              "      <td>4</td>\n",
              "      <td>8</td>\n",
              "      <td>368.0</td>\n",
              "      <td>...</td>\n",
              "      <td>30.00</td>\n",
              "      <td>15.00</td>\n",
              "      <td>20.00</td>\n",
              "      <td>5.00</td>\n",
              "      <td>6.0</td>\n",
              "      <td>8.0</td>\n",
              "      <td>7.0</td>\n",
              "      <td>7.0</td>\n",
              "      <td>8.0</td>\n",
              "      <td>6539</td>\n",
              "    </tr>\n",
              "    <tr>\n",
              "      <th>2</th>\n",
              "      <td>1</td>\n",
              "      <td>6</td>\n",
              "      <td>2</td>\n",
              "      <td>9</td>\n",
              "      <td>20</td>\n",
              "      <td>10</td>\n",
              "      <td>16.0</td>\n",
              "      <td>15</td>\n",
              "      <td>19</td>\n",
              "      <td>212.0</td>\n",
              "      <td>...</td>\n",
              "      <td>NaN</td>\n",
              "      <td>NaN</td>\n",
              "      <td>NaN</td>\n",
              "      <td>NaN</td>\n",
              "      <td>NaN</td>\n",
              "      <td>NaN</td>\n",
              "      <td>NaN</td>\n",
              "      <td>NaN</td>\n",
              "      <td>NaN</td>\n",
              "      <td>6757</td>\n",
              "    </tr>\n",
              "    <tr>\n",
              "      <th>3</th>\n",
              "      <td>1</td>\n",
              "      <td>26</td>\n",
              "      <td>2</td>\n",
              "      <td>2</td>\n",
              "      <td>19</td>\n",
              "      <td>15</td>\n",
              "      <td>NaN</td>\n",
              "      <td>8</td>\n",
              "      <td>10</td>\n",
              "      <td>30.0</td>\n",
              "      <td>...</td>\n",
              "      <td>NaN</td>\n",
              "      <td>NaN</td>\n",
              "      <td>NaN</td>\n",
              "      <td>NaN</td>\n",
              "      <td>NaN</td>\n",
              "      <td>NaN</td>\n",
              "      <td>NaN</td>\n",
              "      <td>NaN</td>\n",
              "      <td>NaN</td>\n",
              "      <td>2275</td>\n",
              "    </tr>\n",
              "    <tr>\n",
              "      <th>4</th>\n",
              "      <td>0</td>\n",
              "      <td>29</td>\n",
              "      <td>2</td>\n",
              "      <td>7</td>\n",
              "      <td>16</td>\n",
              "      <td>7</td>\n",
              "      <td>7.0</td>\n",
              "      <td>10</td>\n",
              "      <td>5</td>\n",
              "      <td>162.0</td>\n",
              "      <td>...</td>\n",
              "      <td>NaN</td>\n",
              "      <td>NaN</td>\n",
              "      <td>NaN</td>\n",
              "      <td>NaN</td>\n",
              "      <td>NaN</td>\n",
              "      <td>NaN</td>\n",
              "      <td>NaN</td>\n",
              "      <td>NaN</td>\n",
              "      <td>NaN</td>\n",
              "      <td>1052</td>\n",
              "    </tr>\n",
              "    <tr>\n",
              "      <th>...</th>\n",
              "      <td>...</td>\n",
              "      <td>...</td>\n",
              "      <td>...</td>\n",
              "      <td>...</td>\n",
              "      <td>...</td>\n",
              "      <td>...</td>\n",
              "      <td>...</td>\n",
              "      <td>...</td>\n",
              "      <td>...</td>\n",
              "      <td>...</td>\n",
              "      <td>...</td>\n",
              "      <td>...</td>\n",
              "      <td>...</td>\n",
              "      <td>...</td>\n",
              "      <td>...</td>\n",
              "      <td>...</td>\n",
              "      <td>...</td>\n",
              "      <td>...</td>\n",
              "      <td>...</td>\n",
              "      <td>...</td>\n",
              "      <td>...</td>\n",
              "    </tr>\n",
              "    <tr>\n",
              "      <th>2464</th>\n",
              "      <td>0</td>\n",
              "      <td>23</td>\n",
              "      <td>2</td>\n",
              "      <td>15</td>\n",
              "      <td>19</td>\n",
              "      <td>18</td>\n",
              "      <td>18.0</td>\n",
              "      <td>14</td>\n",
              "      <td>11</td>\n",
              "      <td>407.0</td>\n",
              "      <td>...</td>\n",
              "      <td>NaN</td>\n",
              "      <td>NaN</td>\n",
              "      <td>NaN</td>\n",
              "      <td>NaN</td>\n",
              "      <td>NaN</td>\n",
              "      <td>NaN</td>\n",
              "      <td>NaN</td>\n",
              "      <td>NaN</td>\n",
              "      <td>NaN</td>\n",
              "      <td>7982</td>\n",
              "    </tr>\n",
              "    <tr>\n",
              "      <th>2465</th>\n",
              "      <td>0</td>\n",
              "      <td>5</td>\n",
              "      <td>1</td>\n",
              "      <td>13</td>\n",
              "      <td>9</td>\n",
              "      <td>4</td>\n",
              "      <td>4.0</td>\n",
              "      <td>4</td>\n",
              "      <td>8</td>\n",
              "      <td>339.0</td>\n",
              "      <td>...</td>\n",
              "      <td>NaN</td>\n",
              "      <td>NaN</td>\n",
              "      <td>NaN</td>\n",
              "      <td>NaN</td>\n",
              "      <td>NaN</td>\n",
              "      <td>NaN</td>\n",
              "      <td>NaN</td>\n",
              "      <td>NaN</td>\n",
              "      <td>NaN</td>\n",
              "      <td>7299</td>\n",
              "    </tr>\n",
              "    <tr>\n",
              "      <th>2466</th>\n",
              "      <td>1</td>\n",
              "      <td>26</td>\n",
              "      <td>2</td>\n",
              "      <td>2</td>\n",
              "      <td>19</td>\n",
              "      <td>3</td>\n",
              "      <td>NaN</td>\n",
              "      <td>15</td>\n",
              "      <td>3</td>\n",
              "      <td>23.0</td>\n",
              "      <td>...</td>\n",
              "      <td>NaN</td>\n",
              "      <td>NaN</td>\n",
              "      <td>NaN</td>\n",
              "      <td>NaN</td>\n",
              "      <td>NaN</td>\n",
              "      <td>NaN</td>\n",
              "      <td>NaN</td>\n",
              "      <td>NaN</td>\n",
              "      <td>NaN</td>\n",
              "      <td>1818</td>\n",
              "    </tr>\n",
              "    <tr>\n",
              "      <th>2467</th>\n",
              "      <td>0</td>\n",
              "      <td>19</td>\n",
              "      <td>2</td>\n",
              "      <td>9</td>\n",
              "      <td>20</td>\n",
              "      <td>11</td>\n",
              "      <td>11.0</td>\n",
              "      <td>9</td>\n",
              "      <td>2</td>\n",
              "      <td>215.0</td>\n",
              "      <td>...</td>\n",
              "      <td>20.41</td>\n",
              "      <td>20.41</td>\n",
              "      <td>18.37</td>\n",
              "      <td>6.12</td>\n",
              "      <td>9.0</td>\n",
              "      <td>7.0</td>\n",
              "      <td>12.0</td>\n",
              "      <td>12.0</td>\n",
              "      <td>9.0</td>\n",
              "      <td>937</td>\n",
              "    </tr>\n",
              "    <tr>\n",
              "      <th>2468</th>\n",
              "      <td>1</td>\n",
              "      <td>38</td>\n",
              "      <td>2</td>\n",
              "      <td>21</td>\n",
              "      <td>22</td>\n",
              "      <td>22</td>\n",
              "      <td>7.0</td>\n",
              "      <td>16</td>\n",
              "      <td>5</td>\n",
              "      <td>513.0</td>\n",
              "      <td>...</td>\n",
              "      <td>20.00</td>\n",
              "      <td>30.00</td>\n",
              "      <td>5.00</td>\n",
              "      <td>5.00</td>\n",
              "      <td>7.0</td>\n",
              "      <td>9.0</td>\n",
              "      <td>8.0</td>\n",
              "      <td>7.0</td>\n",
              "      <td>8.0</td>\n",
              "      <td>6691</td>\n",
              "    </tr>\n",
              "  </tbody>\n",
              "</table>\n",
              "<p>2469 rows × 158 columns</p>\n",
              "</div>\n",
              "      <button class=\"colab-df-convert\" onclick=\"convertToInteractive('df-c54ddedd-006e-432c-adf2-79635114fe88')\"\n",
              "              title=\"Convert this dataframe to an interactive table.\"\n",
              "              style=\"display:none;\">\n",
              "        \n",
              "  <svg xmlns=\"http://www.w3.org/2000/svg\" height=\"24px\"viewBox=\"0 0 24 24\"\n",
              "       width=\"24px\">\n",
              "    <path d=\"M0 0h24v24H0V0z\" fill=\"none\"/>\n",
              "    <path d=\"M18.56 5.44l.94 2.06.94-2.06 2.06-.94-2.06-.94-.94-2.06-.94 2.06-2.06.94zm-11 1L8.5 8.5l.94-2.06 2.06-.94-2.06-.94L8.5 2.5l-.94 2.06-2.06.94zm10 10l.94 2.06.94-2.06 2.06-.94-2.06-.94-.94-2.06-.94 2.06-2.06.94z\"/><path d=\"M17.41 7.96l-1.37-1.37c-.4-.4-.92-.59-1.43-.59-.52 0-1.04.2-1.43.59L10.3 9.45l-7.72 7.72c-.78.78-.78 2.05 0 2.83L4 21.41c.39.39.9.59 1.41.59.51 0 1.02-.2 1.41-.59l7.78-7.78 2.81-2.81c.8-.78.8-2.07 0-2.86zM5.41 20L4 18.59l7.72-7.72 1.47 1.35L5.41 20z\"/>\n",
              "  </svg>\n",
              "      </button>\n",
              "      \n",
              "  <style>\n",
              "    .colab-df-container {\n",
              "      display:flex;\n",
              "      flex-wrap:wrap;\n",
              "      gap: 12px;\n",
              "    }\n",
              "\n",
              "    .colab-df-convert {\n",
              "      background-color: #E8F0FE;\n",
              "      border: none;\n",
              "      border-radius: 50%;\n",
              "      cursor: pointer;\n",
              "      display: none;\n",
              "      fill: #1967D2;\n",
              "      height: 32px;\n",
              "      padding: 0 0 0 0;\n",
              "      width: 32px;\n",
              "    }\n",
              "\n",
              "    .colab-df-convert:hover {\n",
              "      background-color: #E2EBFA;\n",
              "      box-shadow: 0px 1px 2px rgba(60, 64, 67, 0.3), 0px 1px 3px 1px rgba(60, 64, 67, 0.15);\n",
              "      fill: #174EA6;\n",
              "    }\n",
              "\n",
              "    [theme=dark] .colab-df-convert {\n",
              "      background-color: #3B4455;\n",
              "      fill: #D2E3FC;\n",
              "    }\n",
              "\n",
              "    [theme=dark] .colab-df-convert:hover {\n",
              "      background-color: #434B5C;\n",
              "      box-shadow: 0px 1px 3px 1px rgba(0, 0, 0, 0.15);\n",
              "      filter: drop-shadow(0px 1px 2px rgba(0, 0, 0, 0.3));\n",
              "      fill: #FFFFFF;\n",
              "    }\n",
              "  </style>\n",
              "\n",
              "      <script>\n",
              "        const buttonEl =\n",
              "          document.querySelector('#df-c54ddedd-006e-432c-adf2-79635114fe88 button.colab-df-convert');\n",
              "        buttonEl.style.display =\n",
              "          google.colab.kernel.accessAllowed ? 'block' : 'none';\n",
              "\n",
              "        async function convertToInteractive(key) {\n",
              "          const element = document.querySelector('#df-c54ddedd-006e-432c-adf2-79635114fe88');\n",
              "          const dataTable =\n",
              "            await google.colab.kernel.invokeFunction('convertToInteractive',\n",
              "                                                     [key], {});\n",
              "          if (!dataTable) return;\n",
              "\n",
              "          const docLinkHtml = 'Like what you see? Visit the ' +\n",
              "            '<a target=\"_blank\" href=https://colab.research.google.com/notebooks/data_table.ipynb>data table notebook</a>'\n",
              "            + ' to learn more about interactive tables.';\n",
              "          element.innerHTML = '';\n",
              "          dataTable['output_type'] = 'display_data';\n",
              "          await google.colab.output.renderOutput(dataTable, element);\n",
              "          const docLink = document.createElement('div');\n",
              "          docLink.innerHTML = docLinkHtml;\n",
              "          element.appendChild(docLink);\n",
              "        }\n",
              "      </script>\n",
              "    </div>\n",
              "  </div>\n",
              "  "
            ]
          },
          "metadata": {},
          "execution_count": 23
        }
      ]
    },
    {
      "cell_type": "code",
      "source": [
        "# show the sum of null values in rating \n",
        "df_test.isna().sum().sum()"
      ],
      "metadata": {
        "colab": {
          "base_uri": "https://localhost:8080/"
        },
        "id": "zKd2tzOR1a_R",
        "outputId": "23646aea-5516-4622-945b-8f1313e5d20c"
      },
      "execution_count": null,
      "outputs": [
        {
          "output_type": "execute_result",
          "data": {
            "text/plain": [
              "68050"
            ]
          },
          "metadata": {},
          "execution_count": 24
        }
      ]
    },
    {
      "cell_type": "code",
      "source": [
        "#drop useless columns      \n",
        "x=df_train.drop(['match','pid','idg','partner'],axis=1)\n",
        "y=df_train['match']"
      ],
      "metadata": {
        "id": "8w03l4bE1fmR"
      },
      "execution_count": null,
      "outputs": []
    },
    {
      "cell_type": "code",
      "source": [
        "#drop useless columns      \n",
        "test_data=df_test.drop(['pid','idg','partner'],axis=1)"
      ],
      "metadata": {
        "id": "LfZqsz2DBy0y"
      },
      "execution_count": null,
      "outputs": []
    },
    {
      "cell_type": "code",
      "source": [
        "df_test.shape"
      ],
      "metadata": {
        "colab": {
          "base_uri": "https://localhost:8080/"
        },
        "id": "4NsRAgqrGWeC",
        "outputId": "64e312b5-4f2c-4181-97d9-d2b0bf18feae"
      },
      "execution_count": null,
      "outputs": [
        {
          "output_type": "execute_result",
          "data": {
            "text/plain": [
              "(2469, 158)"
            ]
          },
          "metadata": {},
          "execution_count": 27
        }
      ]
    },
    {
      "cell_type": "code",
      "source": [
        "x.shape"
      ],
      "metadata": {
        "colab": {
          "base_uri": "https://localhost:8080/"
        },
        "id": "VZkVlB9HGbAi",
        "outputId": "38b867ba-2831-4fa8-db95-e9d35dabcfbf"
      },
      "execution_count": null,
      "outputs": [
        {
          "output_type": "execute_result",
          "data": {
            "text/plain": [
              "(5909, 155)"
            ]
          },
          "metadata": {},
          "execution_count": 28
        }
      ]
    },
    {
      "cell_type": "code",
      "source": [
        "features_categorical = list(x.select_dtypes(include=['category']))\n",
        "print('categorical features:', features_categorical)"
      ],
      "metadata": {
        "colab": {
          "base_uri": "https://localhost:8080/"
        },
        "id": "mFOLowHkyV7a",
        "outputId": "ef9493ab-c1b4-4b97-ac3b-a16b907ffcd4"
      },
      "execution_count": null,
      "outputs": [
        {
          "output_type": "stream",
          "name": "stdout",
          "text": [
            "categorical features: []\n"
          ]
        }
      ]
    },
    {
      "cell_type": "code",
      "source": [
        "#split features to numeric and categorical\n",
        "features_numeric = list(x.select_dtypes(include=['float64', 'int64']))\n",
        "features_categorical = list(x.select_dtypes(include=['category']))\n",
        "features_categorical"
      ],
      "metadata": {
        "colab": {
          "base_uri": "https://localhost:8080/"
        },
        "id": "KHdrFFhrHSIi",
        "outputId": "b83e10a1-5901-4e87-cee6-f0a308b4cf5a"
      },
      "execution_count": null,
      "outputs": [
        {
          "output_type": "execute_result",
          "data": {
            "text/plain": [
              "[]"
            ]
          },
          "metadata": {},
          "execution_count": 30
        }
      ]
    },
    {
      "cell_type": "code",
      "source": [
        "np.random.seed(0)\n",
        "\n",
        "# define a pipe line for numeric feature preprocessing\n",
        "# give them a name so can set their hyperparameters\n",
        "#SimpleImputer: Univariate imputer for completing missing values with simple strategies.\n",
        "#StandardScaler: removes the mean and scales each feature/variable to unit variance.\n",
        "transformer_numeric = Pipeline(\n",
        "    steps=[\n",
        "        ('imputer', SimpleImputer()),\n",
        "        ('scaler', StandardScaler())]\n",
        ")\n",
        "\n",
        "# define a pipe line for categorical feature preprocessing\n",
        "# give them a name so can set their hyperparameters\n",
        "transformer_categorical = Pipeline(\n",
        "    steps=[\n",
        "        ('imputer', SimpleImputer(strategy='constant')),\n",
        "        ('onehot', OneHotEncoder(handle_unknown='ignore'))\n",
        "    ]\n",
        ")\n",
        "# define the preprocessor \n",
        "# gave them a name so can set their hyperparameters\n",
        "# also specify what are the categorical \n",
        "preprocessor = ColumnTransformer(\n",
        "    transformers=[\n",
        "        ('num', transformer_numeric, features_numeric),\n",
        "        ('cat', transformer_categorical, features_categorical)\n",
        "    ]\n",
        ")\n"
      ],
      "metadata": {
        "id": "_BlKav-2RtlO"
      },
      "execution_count": null,
      "outputs": []
    },
    {
      "cell_type": "code",
      "source": [
        "x.info()"
      ],
      "metadata": {
        "colab": {
          "base_uri": "https://localhost:8080/"
        },
        "id": "4yv2b7dVvJdT",
        "outputId": "798bce19-6d63-4d86-cd06-fbc7eb75e4e2"
      },
      "execution_count": null,
      "outputs": [
        {
          "output_type": "stream",
          "name": "stdout",
          "text": [
            "<class 'pandas.core.frame.DataFrame'>\n",
            "RangeIndex: 5909 entries, 0 to 5908\n",
            "Columns: 155 entries, gender to id\n",
            "dtypes: float64(140), int64(8), object(7)\n",
            "memory usage: 7.0+ MB\n"
          ]
        }
      ]
    },
    {
      "cell_type": "markdown",
      "source": [
        "#First Model: Decision Tree"
      ],
      "metadata": {
        "id": "CwRGFHVrtscy"
      }
    },
    {
      "cell_type": "code",
      "source": [
        "from sklearn import tree # to create a model that predicts the value of a target variable by learning simple decision rules inferred from the data features.\n",
        "#set list of values in each hyperparameter\n",
        "criterion = ['gini', 'entropy'] #gini: split the population into two equal halves , entropy: a measure of disorder or impurity in a node.\n",
        "max_depth = [6,7,8,10,12,14] #max_depth: This determines the maximum depth of the tree\n",
        "dec_tree = tree.DecisionTreeClassifier() #the classifier \n",
        "parameters = dict(dec_tree__criterion=criterion,\n",
        "                  dec_tree__max_depth=max_depth)\n",
        "pipe = Pipeline(steps=[('preprocessor', preprocessor),\n",
        "                       #use feature selection function to select best features\n",
        "                       ('feature_selection', SelectKBest(score_func=f_classif,k=140)),\n",
        "                       ('dec_tree', dec_tree)])\n",
        "pipe.fit(x,y)"
      ],
      "metadata": {
        "colab": {
          "base_uri": "https://localhost:8080/",
          "height": 260
        },
        "id": "kyMdzX1Utudh",
        "outputId": "d4f29f33-cc70-4042-d0ce-6fe67e69209b"
      },
      "execution_count": null,
      "outputs": [
        {
          "output_type": "execute_result",
          "data": {
            "text/plain": [
              "Pipeline(steps=[('preprocessor',\n",
              "                 ColumnTransformer(transformers=[('num',\n",
              "                                                  Pipeline(steps=[('imputer',\n",
              "                                                                   SimpleImputer()),\n",
              "                                                                  ('scaler',\n",
              "                                                                   StandardScaler())]),\n",
              "                                                  ['gender', 'condtn', 'wave',\n",
              "                                                   'round', 'position',\n",
              "                                                   'positin1', 'order',\n",
              "                                                   'int_corr', 'samerace',\n",
              "                                                   'age_o', 'race_o',\n",
              "                                                   'pf_o_att', 'pf_o_sin',\n",
              "                                                   'pf_o_int', 'pf_o_fun',\n",
              "                                                   'pf_o_amb', 'pf_o_sha',\n",
              "                                                   'attr_o', 'sinc_o',\n",
              "                                                   'intel_o', 'fun_o', 'amb_o',\n",
              "                                                   'shar_o', 'like_o', 'prob_o',\n",
              "                                                   'met_o', 'age', 'field_cd',\n",
              "                                                   'race', 'imprace', ...]),\n",
              "                                                 ('cat',\n",
              "                                                  Pipeline(steps=[('imputer',\n",
              "                                                                   SimpleImputer(strategy='constant')),\n",
              "                                                                  ('onehot',\n",
              "                                                                   OneHotEncoder(handle_unknown='ignore'))]),\n",
              "                                                  [])])),\n",
              "                ('feature_selection', SelectKBest(k=140)),\n",
              "                ('dec_tree', DecisionTreeClassifier())])"
            ],
            "text/html": [
              "<style>#sk-container-id-1 {color: black;background-color: white;}#sk-container-id-1 pre{padding: 0;}#sk-container-id-1 div.sk-toggleable {background-color: white;}#sk-container-id-1 label.sk-toggleable__label {cursor: pointer;display: block;width: 100%;margin-bottom: 0;padding: 0.3em;box-sizing: border-box;text-align: center;}#sk-container-id-1 label.sk-toggleable__label-arrow:before {content: \"▸\";float: left;margin-right: 0.25em;color: #696969;}#sk-container-id-1 label.sk-toggleable__label-arrow:hover:before {color: black;}#sk-container-id-1 div.sk-estimator:hover label.sk-toggleable__label-arrow:before {color: black;}#sk-container-id-1 div.sk-toggleable__content {max-height: 0;max-width: 0;overflow: hidden;text-align: left;background-color: #f0f8ff;}#sk-container-id-1 div.sk-toggleable__content pre {margin: 0.2em;color: black;border-radius: 0.25em;background-color: #f0f8ff;}#sk-container-id-1 input.sk-toggleable__control:checked~div.sk-toggleable__content {max-height: 200px;max-width: 100%;overflow: auto;}#sk-container-id-1 input.sk-toggleable__control:checked~label.sk-toggleable__label-arrow:before {content: \"▾\";}#sk-container-id-1 div.sk-estimator input.sk-toggleable__control:checked~label.sk-toggleable__label {background-color: #d4ebff;}#sk-container-id-1 div.sk-label input.sk-toggleable__control:checked~label.sk-toggleable__label {background-color: #d4ebff;}#sk-container-id-1 input.sk-hidden--visually {border: 0;clip: rect(1px 1px 1px 1px);clip: rect(1px, 1px, 1px, 1px);height: 1px;margin: -1px;overflow: hidden;padding: 0;position: absolute;width: 1px;}#sk-container-id-1 div.sk-estimator {font-family: monospace;background-color: #f0f8ff;border: 1px dotted black;border-radius: 0.25em;box-sizing: border-box;margin-bottom: 0.5em;}#sk-container-id-1 div.sk-estimator:hover {background-color: #d4ebff;}#sk-container-id-1 div.sk-parallel-item::after {content: \"\";width: 100%;border-bottom: 1px solid gray;flex-grow: 1;}#sk-container-id-1 div.sk-label:hover label.sk-toggleable__label {background-color: #d4ebff;}#sk-container-id-1 div.sk-serial::before {content: \"\";position: absolute;border-left: 1px solid gray;box-sizing: border-box;top: 0;bottom: 0;left: 50%;z-index: 0;}#sk-container-id-1 div.sk-serial {display: flex;flex-direction: column;align-items: center;background-color: white;padding-right: 0.2em;padding-left: 0.2em;position: relative;}#sk-container-id-1 div.sk-item {position: relative;z-index: 1;}#sk-container-id-1 div.sk-parallel {display: flex;align-items: stretch;justify-content: center;background-color: white;position: relative;}#sk-container-id-1 div.sk-item::before, #sk-container-id-1 div.sk-parallel-item::before {content: \"\";position: absolute;border-left: 1px solid gray;box-sizing: border-box;top: 0;bottom: 0;left: 50%;z-index: -1;}#sk-container-id-1 div.sk-parallel-item {display: flex;flex-direction: column;z-index: 1;position: relative;background-color: white;}#sk-container-id-1 div.sk-parallel-item:first-child::after {align-self: flex-end;width: 50%;}#sk-container-id-1 div.sk-parallel-item:last-child::after {align-self: flex-start;width: 50%;}#sk-container-id-1 div.sk-parallel-item:only-child::after {width: 0;}#sk-container-id-1 div.sk-dashed-wrapped {border: 1px dashed gray;margin: 0 0.4em 0.5em 0.4em;box-sizing: border-box;padding-bottom: 0.4em;background-color: white;}#sk-container-id-1 div.sk-label label {font-family: monospace;font-weight: bold;display: inline-block;line-height: 1.2em;}#sk-container-id-1 div.sk-label-container {text-align: center;}#sk-container-id-1 div.sk-container {/* jupyter's `normalize.less` sets `[hidden] { display: none; }` but bootstrap.min.css set `[hidden] { display: none !important; }` so we also need the `!important` here to be able to override the default hidden behavior on the sphinx rendered scikit-learn.org. See: https://github.com/scikit-learn/scikit-learn/issues/21755 */display: inline-block !important;position: relative;}#sk-container-id-1 div.sk-text-repr-fallback {display: none;}</style><div id=\"sk-container-id-1\" class=\"sk-top-container\"><div class=\"sk-text-repr-fallback\"><pre>Pipeline(steps=[(&#x27;preprocessor&#x27;,\n",
              "                 ColumnTransformer(transformers=[(&#x27;num&#x27;,\n",
              "                                                  Pipeline(steps=[(&#x27;imputer&#x27;,\n",
              "                                                                   SimpleImputer()),\n",
              "                                                                  (&#x27;scaler&#x27;,\n",
              "                                                                   StandardScaler())]),\n",
              "                                                  [&#x27;gender&#x27;, &#x27;condtn&#x27;, &#x27;wave&#x27;,\n",
              "                                                   &#x27;round&#x27;, &#x27;position&#x27;,\n",
              "                                                   &#x27;positin1&#x27;, &#x27;order&#x27;,\n",
              "                                                   &#x27;int_corr&#x27;, &#x27;samerace&#x27;,\n",
              "                                                   &#x27;age_o&#x27;, &#x27;race_o&#x27;,\n",
              "                                                   &#x27;pf_o_att&#x27;, &#x27;pf_o_sin&#x27;,\n",
              "                                                   &#x27;pf_o_int&#x27;, &#x27;pf_o_fun&#x27;,\n",
              "                                                   &#x27;pf_o_amb&#x27;, &#x27;pf_o_sha&#x27;,\n",
              "                                                   &#x27;attr_o&#x27;, &#x27;sinc_o&#x27;,\n",
              "                                                   &#x27;intel_o&#x27;, &#x27;fun_o&#x27;, &#x27;amb_o&#x27;,\n",
              "                                                   &#x27;shar_o&#x27;, &#x27;like_o&#x27;, &#x27;prob_o&#x27;,\n",
              "                                                   &#x27;met_o&#x27;, &#x27;age&#x27;, &#x27;field_cd&#x27;,\n",
              "                                                   &#x27;race&#x27;, &#x27;imprace&#x27;, ...]),\n",
              "                                                 (&#x27;cat&#x27;,\n",
              "                                                  Pipeline(steps=[(&#x27;imputer&#x27;,\n",
              "                                                                   SimpleImputer(strategy=&#x27;constant&#x27;)),\n",
              "                                                                  (&#x27;onehot&#x27;,\n",
              "                                                                   OneHotEncoder(handle_unknown=&#x27;ignore&#x27;))]),\n",
              "                                                  [])])),\n",
              "                (&#x27;feature_selection&#x27;, SelectKBest(k=140)),\n",
              "                (&#x27;dec_tree&#x27;, DecisionTreeClassifier())])</pre><b>In a Jupyter environment, please rerun this cell to show the HTML representation or trust the notebook. <br />On GitHub, the HTML representation is unable to render, please try loading this page with nbviewer.org.</b></div><div class=\"sk-container\" hidden><div class=\"sk-item sk-dashed-wrapped\"><div class=\"sk-label-container\"><div class=\"sk-label sk-toggleable\"><input class=\"sk-toggleable__control sk-hidden--visually\" id=\"sk-estimator-id-1\" type=\"checkbox\" ><label for=\"sk-estimator-id-1\" class=\"sk-toggleable__label sk-toggleable__label-arrow\">Pipeline</label><div class=\"sk-toggleable__content\"><pre>Pipeline(steps=[(&#x27;preprocessor&#x27;,\n",
              "                 ColumnTransformer(transformers=[(&#x27;num&#x27;,\n",
              "                                                  Pipeline(steps=[(&#x27;imputer&#x27;,\n",
              "                                                                   SimpleImputer()),\n",
              "                                                                  (&#x27;scaler&#x27;,\n",
              "                                                                   StandardScaler())]),\n",
              "                                                  [&#x27;gender&#x27;, &#x27;condtn&#x27;, &#x27;wave&#x27;,\n",
              "                                                   &#x27;round&#x27;, &#x27;position&#x27;,\n",
              "                                                   &#x27;positin1&#x27;, &#x27;order&#x27;,\n",
              "                                                   &#x27;int_corr&#x27;, &#x27;samerace&#x27;,\n",
              "                                                   &#x27;age_o&#x27;, &#x27;race_o&#x27;,\n",
              "                                                   &#x27;pf_o_att&#x27;, &#x27;pf_o_sin&#x27;,\n",
              "                                                   &#x27;pf_o_int&#x27;, &#x27;pf_o_fun&#x27;,\n",
              "                                                   &#x27;pf_o_amb&#x27;, &#x27;pf_o_sha&#x27;,\n",
              "                                                   &#x27;attr_o&#x27;, &#x27;sinc_o&#x27;,\n",
              "                                                   &#x27;intel_o&#x27;, &#x27;fun_o&#x27;, &#x27;amb_o&#x27;,\n",
              "                                                   &#x27;shar_o&#x27;, &#x27;like_o&#x27;, &#x27;prob_o&#x27;,\n",
              "                                                   &#x27;met_o&#x27;, &#x27;age&#x27;, &#x27;field_cd&#x27;,\n",
              "                                                   &#x27;race&#x27;, &#x27;imprace&#x27;, ...]),\n",
              "                                                 (&#x27;cat&#x27;,\n",
              "                                                  Pipeline(steps=[(&#x27;imputer&#x27;,\n",
              "                                                                   SimpleImputer(strategy=&#x27;constant&#x27;)),\n",
              "                                                                  (&#x27;onehot&#x27;,\n",
              "                                                                   OneHotEncoder(handle_unknown=&#x27;ignore&#x27;))]),\n",
              "                                                  [])])),\n",
              "                (&#x27;feature_selection&#x27;, SelectKBest(k=140)),\n",
              "                (&#x27;dec_tree&#x27;, DecisionTreeClassifier())])</pre></div></div></div><div class=\"sk-serial\"><div class=\"sk-item sk-dashed-wrapped\"><div class=\"sk-label-container\"><div class=\"sk-label sk-toggleable\"><input class=\"sk-toggleable__control sk-hidden--visually\" id=\"sk-estimator-id-2\" type=\"checkbox\" ><label for=\"sk-estimator-id-2\" class=\"sk-toggleable__label sk-toggleable__label-arrow\">preprocessor: ColumnTransformer</label><div class=\"sk-toggleable__content\"><pre>ColumnTransformer(transformers=[(&#x27;num&#x27;,\n",
              "                                 Pipeline(steps=[(&#x27;imputer&#x27;, SimpleImputer()),\n",
              "                                                 (&#x27;scaler&#x27;, StandardScaler())]),\n",
              "                                 [&#x27;gender&#x27;, &#x27;condtn&#x27;, &#x27;wave&#x27;, &#x27;round&#x27;,\n",
              "                                  &#x27;position&#x27;, &#x27;positin1&#x27;, &#x27;order&#x27;, &#x27;int_corr&#x27;,\n",
              "                                  &#x27;samerace&#x27;, &#x27;age_o&#x27;, &#x27;race_o&#x27;, &#x27;pf_o_att&#x27;,\n",
              "                                  &#x27;pf_o_sin&#x27;, &#x27;pf_o_int&#x27;, &#x27;pf_o_fun&#x27;,\n",
              "                                  &#x27;pf_o_amb&#x27;, &#x27;pf_o_sha&#x27;, &#x27;attr_o&#x27;, &#x27;sinc_o&#x27;,\n",
              "                                  &#x27;intel_o&#x27;, &#x27;fun_o&#x27;, &#x27;amb_o&#x27;, &#x27;shar_o&#x27;,\n",
              "                                  &#x27;like_o&#x27;, &#x27;prob_o&#x27;, &#x27;met_o&#x27;, &#x27;age&#x27;,\n",
              "                                  &#x27;field_cd&#x27;, &#x27;race&#x27;, &#x27;imprace&#x27;, ...]),\n",
              "                                (&#x27;cat&#x27;,\n",
              "                                 Pipeline(steps=[(&#x27;imputer&#x27;,\n",
              "                                                  SimpleImputer(strategy=&#x27;constant&#x27;)),\n",
              "                                                 (&#x27;onehot&#x27;,\n",
              "                                                  OneHotEncoder(handle_unknown=&#x27;ignore&#x27;))]),\n",
              "                                 [])])</pre></div></div></div><div class=\"sk-parallel\"><div class=\"sk-parallel-item\"><div class=\"sk-item\"><div class=\"sk-label-container\"><div class=\"sk-label sk-toggleable\"><input class=\"sk-toggleable__control sk-hidden--visually\" id=\"sk-estimator-id-3\" type=\"checkbox\" ><label for=\"sk-estimator-id-3\" class=\"sk-toggleable__label sk-toggleable__label-arrow\">num</label><div class=\"sk-toggleable__content\"><pre>[&#x27;gender&#x27;, &#x27;condtn&#x27;, &#x27;wave&#x27;, &#x27;round&#x27;, &#x27;position&#x27;, &#x27;positin1&#x27;, &#x27;order&#x27;, &#x27;int_corr&#x27;, &#x27;samerace&#x27;, &#x27;age_o&#x27;, &#x27;race_o&#x27;, &#x27;pf_o_att&#x27;, &#x27;pf_o_sin&#x27;, &#x27;pf_o_int&#x27;, &#x27;pf_o_fun&#x27;, &#x27;pf_o_amb&#x27;, &#x27;pf_o_sha&#x27;, &#x27;attr_o&#x27;, &#x27;sinc_o&#x27;, &#x27;intel_o&#x27;, &#x27;fun_o&#x27;, &#x27;amb_o&#x27;, &#x27;shar_o&#x27;, &#x27;like_o&#x27;, &#x27;prob_o&#x27;, &#x27;met_o&#x27;, &#x27;age&#x27;, &#x27;field_cd&#x27;, &#x27;race&#x27;, &#x27;imprace&#x27;, &#x27;imprelig&#x27;, &#x27;goal&#x27;, &#x27;date&#x27;, &#x27;go_out&#x27;, &#x27;career_c&#x27;, &#x27;sports&#x27;, &#x27;tvsports&#x27;, &#x27;exercise&#x27;, &#x27;dining&#x27;, &#x27;museums&#x27;, &#x27;art&#x27;, &#x27;hiking&#x27;, &#x27;gaming&#x27;, &#x27;clubbing&#x27;, &#x27;reading&#x27;, &#x27;tv&#x27;, &#x27;theater&#x27;, &#x27;movies&#x27;, &#x27;concerts&#x27;, &#x27;music&#x27;, &#x27;shopping&#x27;, &#x27;yoga&#x27;, &#x27;exphappy&#x27;, &#x27;attr1_1&#x27;, &#x27;sinc1_1&#x27;, &#x27;intel1_1&#x27;, &#x27;fun1_1&#x27;, &#x27;amb1_1&#x27;, &#x27;shar1_1&#x27;, &#x27;attr4_1&#x27;, &#x27;sinc4_1&#x27;, &#x27;intel4_1&#x27;, &#x27;fun4_1&#x27;, &#x27;amb4_1&#x27;, &#x27;shar4_1&#x27;, &#x27;attr2_1&#x27;, &#x27;sinc2_1&#x27;, &#x27;intel2_1&#x27;, &#x27;fun2_1&#x27;, &#x27;amb2_1&#x27;, &#x27;shar2_1&#x27;, &#x27;attr3_1&#x27;, &#x27;sinc3_1&#x27;, &#x27;fun3_1&#x27;, &#x27;intel3_1&#x27;, &#x27;amb3_1&#x27;, &#x27;attr5_1&#x27;, &#x27;sinc5_1&#x27;, &#x27;intel5_1&#x27;, &#x27;fun5_1&#x27;, &#x27;amb5_1&#x27;, &#x27;attr&#x27;, &#x27;sinc&#x27;, &#x27;intel&#x27;, &#x27;fun&#x27;, &#x27;amb&#x27;, &#x27;shar&#x27;, &#x27;like&#x27;, &#x27;prob&#x27;, &#x27;met&#x27;, &#x27;match_es&#x27;, &#x27;attr1_s&#x27;, &#x27;sinc1_s&#x27;, &#x27;intel1_s&#x27;, &#x27;fun1_s&#x27;, &#x27;amb1_s&#x27;, &#x27;shar1_s&#x27;, &#x27;attr3_s&#x27;, &#x27;sinc3_s&#x27;, &#x27;intel3_s&#x27;, &#x27;fun3_s&#x27;, &#x27;amb3_s&#x27;, &#x27;satis_2&#x27;, &#x27;length&#x27;, &#x27;numdat_2&#x27;, &#x27;attr1_2&#x27;, &#x27;sinc1_2&#x27;, &#x27;intel1_2&#x27;, &#x27;fun1_2&#x27;, &#x27;amb1_2&#x27;, &#x27;shar1_2&#x27;, &#x27;attr4_2&#x27;, &#x27;sinc4_2&#x27;, &#x27;intel4_2&#x27;, &#x27;fun4_2&#x27;, &#x27;amb4_2&#x27;, &#x27;shar4_2&#x27;, &#x27;attr2_2&#x27;, &#x27;sinc2_2&#x27;, &#x27;intel2_2&#x27;, &#x27;fun2_2&#x27;, &#x27;amb2_2&#x27;, &#x27;shar2_2&#x27;, &#x27;attr3_2&#x27;, &#x27;sinc3_2&#x27;, &#x27;intel3_2&#x27;, &#x27;fun3_2&#x27;, &#x27;amb3_2&#x27;, &#x27;attr5_2&#x27;, &#x27;sinc5_2&#x27;, &#x27;intel5_2&#x27;, &#x27;fun5_2&#x27;, &#x27;amb5_2&#x27;, &#x27;you_call&#x27;, &#x27;them_cal&#x27;, &#x27;date_3&#x27;, &#x27;attr1_3&#x27;, &#x27;sinc1_3&#x27;, &#x27;intel1_3&#x27;, &#x27;fun1_3&#x27;, &#x27;amb1_3&#x27;, &#x27;shar1_3&#x27;, &#x27;attr3_3&#x27;, &#x27;sinc3_3&#x27;, &#x27;intel3_3&#x27;, &#x27;fun3_3&#x27;, &#x27;amb3_3&#x27;]</pre></div></div></div><div class=\"sk-serial\"><div class=\"sk-item\"><div class=\"sk-serial\"><div class=\"sk-item\"><div class=\"sk-estimator sk-toggleable\"><input class=\"sk-toggleable__control sk-hidden--visually\" id=\"sk-estimator-id-4\" type=\"checkbox\" ><label for=\"sk-estimator-id-4\" class=\"sk-toggleable__label sk-toggleable__label-arrow\">SimpleImputer</label><div class=\"sk-toggleable__content\"><pre>SimpleImputer()</pre></div></div></div><div class=\"sk-item\"><div class=\"sk-estimator sk-toggleable\"><input class=\"sk-toggleable__control sk-hidden--visually\" id=\"sk-estimator-id-5\" type=\"checkbox\" ><label for=\"sk-estimator-id-5\" class=\"sk-toggleable__label sk-toggleable__label-arrow\">StandardScaler</label><div class=\"sk-toggleable__content\"><pre>StandardScaler()</pre></div></div></div></div></div></div></div></div><div class=\"sk-parallel-item\"><div class=\"sk-item\"><div class=\"sk-label-container\"><div class=\"sk-label sk-toggleable\"><input class=\"sk-toggleable__control sk-hidden--visually\" id=\"sk-estimator-id-6\" type=\"checkbox\" ><label for=\"sk-estimator-id-6\" class=\"sk-toggleable__label sk-toggleable__label-arrow\">cat</label><div class=\"sk-toggleable__content\"><pre>[]</pre></div></div></div><div class=\"sk-serial\"><div class=\"sk-item\"><div class=\"sk-serial\"><div class=\"sk-item\"><div class=\"sk-estimator sk-toggleable\"><input class=\"sk-toggleable__control sk-hidden--visually\" id=\"sk-estimator-id-7\" type=\"checkbox\" ><label for=\"sk-estimator-id-7\" class=\"sk-toggleable__label sk-toggleable__label-arrow\">SimpleImputer</label><div class=\"sk-toggleable__content\"><pre>SimpleImputer(strategy=&#x27;constant&#x27;)</pre></div></div></div><div class=\"sk-item\"><div class=\"sk-estimator sk-toggleable\"><input class=\"sk-toggleable__control sk-hidden--visually\" id=\"sk-estimator-id-8\" type=\"checkbox\" ><label for=\"sk-estimator-id-8\" class=\"sk-toggleable__label sk-toggleable__label-arrow\">OneHotEncoder</label><div class=\"sk-toggleable__content\"><pre>OneHotEncoder(handle_unknown=&#x27;ignore&#x27;)</pre></div></div></div></div></div></div></div></div></div></div><div class=\"sk-item\"><div class=\"sk-estimator sk-toggleable\"><input class=\"sk-toggleable__control sk-hidden--visually\" id=\"sk-estimator-id-9\" type=\"checkbox\" ><label for=\"sk-estimator-id-9\" class=\"sk-toggleable__label sk-toggleable__label-arrow\">SelectKBest</label><div class=\"sk-toggleable__content\"><pre>SelectKBest(k=140)</pre></div></div></div><div class=\"sk-item\"><div class=\"sk-estimator sk-toggleable\"><input class=\"sk-toggleable__control sk-hidden--visually\" id=\"sk-estimator-id-10\" type=\"checkbox\" ><label for=\"sk-estimator-id-10\" class=\"sk-toggleable__label sk-toggleable__label-arrow\">DecisionTreeClassifier</label><div class=\"sk-toggleable__content\"><pre>DecisionTreeClassifier()</pre></div></div></div></div></div></div></div>"
            ]
          },
          "metadata": {},
          "execution_count": 78
        }
      ]
    },
    {
      "cell_type": "markdown",
      "source": [
        "Trial 1: Decision Tree with Random search\n"
      ],
      "metadata": {
        "id": "I2vshs4Jz8fa"
      }
    },
    {
      "cell_type": "code",
      "source": [
        "#use random search to find optimal hyperparameters\n",
        "random_search_1 = RandomizedSearchCV(\n",
        "    pipe, parameters, cv=5, verbose=1, n_jobs=2, \n",
        "    # number of random trials\n",
        "    n_iter=10,\n",
        "    scoring='roc_auc')\n",
        "\n",
        "random_search_1.fit(x, y)\n",
        "\n",
        "print('best score {}'.format(random_search_1.best_score_))\n",
        "print('best score {}'.format(random_search_1.best_params_))"
      ],
      "metadata": {
        "colab": {
          "base_uri": "https://localhost:8080/"
        },
        "id": "JgJTnnwqz1gr",
        "outputId": "70c1041e-120e-4e33-b45b-c2eda6f5d82b"
      },
      "execution_count": null,
      "outputs": [
        {
          "output_type": "stream",
          "name": "stdout",
          "text": [
            "Fitting 5 folds for each of 10 candidates, totalling 50 fits\n",
            "best score 0.8012456731407477\n",
            "best score {'dec_tree__max_depth': 6, 'dec_tree__criterion': 'entropy'}\n"
          ]
        }
      ]
    },
    {
      "cell_type": "markdown",
      "source": [
        "Trail 2: Decision Tree with BayesianSearch"
      ],
      "metadata": {
        "id": "yvdG1aMR4Jzy"
      }
    },
    {
      "cell_type": "code",
      "source": [
        "!pip install scikit-optimize\n",
        "import skopt\n",
        "from skopt import BayesSearchCV #is an open-source Python library for performing optimization tasks , #BayesSearchCV implements a “fit” and a “score” method.\n",
        "from skopt.space import Real, Categorical, Integer #skopt.space: Initialize a search space from given specifications.,Real: Returns true if all dimensions are Real,Categorical: Space contains exclusively categorical dimensions,Integer: Search space dimension that can take on integer values.\n",
        "bayes_search_1 = BayesSearchCV(\n",
        "    pipe, parameters, cv=5, verbose=1, n_jobs=2, \n",
        "    # number of random trials\n",
        "    n_iter=15,\n",
        "    scoring='roc_auc')\n",
        "\n",
        "bayes_search_1.fit(x, y)\n",
        "\n",
        "print('best score {}'.format(bayes_search_1.best_score_))\n",
        "print('best score {}'.format(bayes_search_1.best_params_))"
      ],
      "metadata": {
        "colab": {
          "base_uri": "https://localhost:8080/"
        },
        "id": "ejdgJ__14K_S",
        "outputId": "512b7cdf-5edc-4332-a032-625aa00eb7a9"
      },
      "execution_count": null,
      "outputs": [
        {
          "output_type": "stream",
          "name": "stdout",
          "text": [
            "Looking in indexes: https://pypi.org/simple, https://us-python.pkg.dev/colab-wheels/public/simple/\n",
            "Requirement already satisfied: scikit-optimize in /usr/local/lib/python3.9/dist-packages (0.9.0)\n",
            "Requirement already satisfied: scipy>=0.19.1 in /usr/local/lib/python3.9/dist-packages (from scikit-optimize) (1.10.1)\n",
            "Requirement already satisfied: pyaml>=16.9 in /usr/local/lib/python3.9/dist-packages (from scikit-optimize) (21.10.1)\n",
            "Requirement already satisfied: joblib>=0.11 in /usr/local/lib/python3.9/dist-packages (from scikit-optimize) (1.1.1)\n",
            "Requirement already satisfied: numpy>=1.13.3 in /usr/local/lib/python3.9/dist-packages (from scikit-optimize) (1.22.4)\n",
            "Requirement already satisfied: scikit-learn>=0.20.0 in /usr/local/lib/python3.9/dist-packages (from scikit-optimize) (1.2.2)\n",
            "Requirement already satisfied: PyYAML in /usr/local/lib/python3.9/dist-packages (from pyaml>=16.9->scikit-optimize) (6.0)\n",
            "Requirement already satisfied: threadpoolctl>=2.0.0 in /usr/local/lib/python3.9/dist-packages (from scikit-learn>=0.20.0->scikit-optimize) (3.1.0)\n",
            "Fitting 5 folds for each of 1 candidates, totalling 5 fits\n",
            "Fitting 5 folds for each of 1 candidates, totalling 5 fits\n",
            "Fitting 5 folds for each of 1 candidates, totalling 5 fits\n",
            "Fitting 5 folds for each of 1 candidates, totalling 5 fits\n",
            "Fitting 5 folds for each of 1 candidates, totalling 5 fits\n",
            "Fitting 5 folds for each of 1 candidates, totalling 5 fits\n",
            "Fitting 5 folds for each of 1 candidates, totalling 5 fits\n",
            "Fitting 5 folds for each of 1 candidates, totalling 5 fits\n",
            "Fitting 5 folds for each of 1 candidates, totalling 5 fits\n",
            "Fitting 5 folds for each of 1 candidates, totalling 5 fits\n",
            "Fitting 5 folds for each of 1 candidates, totalling 5 fits\n",
            "Fitting 5 folds for each of 1 candidates, totalling 5 fits\n",
            "Fitting 5 folds for each of 1 candidates, totalling 5 fits\n"
          ]
        },
        {
          "output_type": "stream",
          "name": "stderr",
          "text": [
            "/usr/local/lib/python3.9/dist-packages/skopt/optimizer/optimizer.py:449: UserWarning: The objective has been evaluated at this point before.\n",
            "  warnings.warn(\"The objective has been evaluated \"\n"
          ]
        },
        {
          "output_type": "stream",
          "name": "stdout",
          "text": [
            "Fitting 5 folds for each of 1 candidates, totalling 5 fits\n"
          ]
        },
        {
          "output_type": "stream",
          "name": "stderr",
          "text": [
            "/usr/local/lib/python3.9/dist-packages/skopt/optimizer/optimizer.py:449: UserWarning: The objective has been evaluated at this point before.\n",
            "  warnings.warn(\"The objective has been evaluated \"\n"
          ]
        },
        {
          "output_type": "stream",
          "name": "stdout",
          "text": [
            "Fitting 5 folds for each of 1 candidates, totalling 5 fits\n",
            "best score 0.7994273553209752\n",
            "best score OrderedDict([('dec_tree__criterion', 'entropy'), ('dec_tree__max_depth', 6)])\n"
          ]
        }
      ]
    },
    {
      "cell_type": "markdown",
      "source": [
        "Trial 3: Decision Tree with GridSearch\n"
      ],
      "metadata": {
        "id": "Ze-nz4_Q6Y8r"
      }
    },
    {
      "cell_type": "code",
      "source": [
        "# cv=6 means two-fold cross-validation\n",
        "# n_jobs means the cucurrent number of jobs\n",
        "# (on colab since we only have two cpu cores, we set it to 2)\n",
        "grid_search_1 = GridSearchCV(\n",
        "    pipe, parameters, cv=6, verbose=1, n_jobs=2, \n",
        "    scoring='roc_auc')\n",
        "\n",
        "grid_search_1.fit(x, y)\n",
        "print('best score {}'.format(grid_search_1.best_score_))\n",
        "print('best score {}'.format(grid_search_1.best_params_))"
      ],
      "metadata": {
        "colab": {
          "base_uri": "https://localhost:8080/"
        },
        "id": "s6Sk5X135mqD",
        "outputId": "84e4efda-472e-4f1e-e057-5cb1bd21daf9"
      },
      "execution_count": null,
      "outputs": [
        {
          "output_type": "stream",
          "name": "stdout",
          "text": [
            "Fitting 6 folds for each of 12 candidates, totalling 72 fits\n",
            "best score 0.8061428710743823\n",
            "best score {'dec_tree__criterion': 'entropy', 'dec_tree__max_depth': 6}\n"
          ]
        }
      ]
    },
    {
      "cell_type": "markdown",
      "source": [
        "after observations I think that the Decision tree with gridsearch was the better one ."
      ],
      "metadata": {
        "id": "nUFOBsMBpvv5"
      }
    },
    {
      "cell_type": "markdown",
      "source": [
        "#Second Model: XGBoost *Classifier*"
      ],
      "metadata": {
        "id": "dsSBRf88tQcC"
      }
    },
    {
      "cell_type": "code",
      "source": [
        "# combine the preprocessor with the model as a full tunable pipeline\n",
        "# we gave them a name so we can set their hyperparameters\n",
        "full_pipline_2 = Pipeline(steps=[('preprocessor', preprocessor),\n",
        "                                 ('feature_selection', SelectKBest(score_func=f_classif,k=140)),\n",
        "                                 ('my_classifier', XGBClassifier())])\n",
        "full_pipline_2.fit(x,y)\n",
        "param_grid = {'preprocessor__num__imputer__strategy': ['mean'],\n",
        "             # preprocessor__num__imputer__strategy points to preprocessor->num (a Pipeline)-> imputer -> strategy\n",
        "             'my_classifier__n_estimators': [10,20,25, 30, 40,50,60,70,80],  \n",
        "             # my_classifier__n_estimators points to my_classifier->n_estimators \n",
        "             'my_classifier__max_depth':[5,10, 20, 30,40,50] }"
      ],
      "metadata": {
        "id": "deuqf1mltPwi"
      },
      "execution_count": null,
      "outputs": []
    },
    {
      "cell_type": "markdown",
      "source": [
        "Trial 4: XGboost with Random Search"
      ],
      "metadata": {
        "id": "O619XElq3wEj"
      }
    },
    {
      "cell_type": "code",
      "source": [
        "random_search_2 = RandomizedSearchCV(\n",
        "    full_pipline_2, param_grid, cv=5, verbose=1, n_jobs=2, \n",
        "    # number of random trials\n",
        "    n_iter=10,\n",
        "    scoring='roc_auc')\n",
        "\n",
        "random_search_2.fit(x, y)\n",
        "\n",
        "print('best score {}'.format(random_search_2.best_score_))\n",
        "print('best score {}'.format(random_search_2.best_params_))"
      ],
      "metadata": {
        "colab": {
          "base_uri": "https://localhost:8080/"
        },
        "id": "v8hEJSiitZp7",
        "outputId": "b2eee983-2d18-4c95-de84-2de594bf6850"
      },
      "execution_count": null,
      "outputs": [
        {
          "output_type": "stream",
          "name": "stdout",
          "text": [
            "Fitting 5 folds for each of 10 candidates, totalling 50 fits\n",
            "best score 0.8759327372364328\n",
            "best score {'preprocessor__num__imputer__strategy': 'mean', 'my_classifier__n_estimators': 80, 'my_classifier__max_depth': 20}\n"
          ]
        }
      ]
    },
    {
      "cell_type": "markdown",
      "source": [
        "Trial 5: XGBoost with Bayesian Search"
      ],
      "metadata": {
        "id": "OVVi672FtDNF"
      }
    },
    {
      "cell_type": "code",
      "source": [
        "bayes_search_2 = BayesSearchCV(\n",
        "    full_pipline_2, param_grid, cv=5, verbose=1, n_jobs=2, \n",
        "    # number of random trials\n",
        "    n_iter=20,\n",
        "    scoring='roc_auc')\n",
        "\n",
        "bayes_search_2.fit(x, y)\n",
        "\n",
        "print('best score {}'.format(bayes_search_2.best_score_))\n",
        "print('best score {}'.format(bayes_search_2.best_params_))"
      ],
      "metadata": {
        "colab": {
          "base_uri": "https://localhost:8080/"
        },
        "id": "HnF_HaCTtEUt",
        "outputId": "f727286c-940a-46ff-a6f1-cca624d3b9bc"
      },
      "execution_count": null,
      "outputs": [
        {
          "output_type": "stream",
          "name": "stdout",
          "text": [
            "Fitting 5 folds for each of 1 candidates, totalling 5 fits\n",
            "Fitting 5 folds for each of 1 candidates, totalling 5 fits\n",
            "Fitting 5 folds for each of 1 candidates, totalling 5 fits\n",
            "Fitting 5 folds for each of 1 candidates, totalling 5 fits\n",
            "Fitting 5 folds for each of 1 candidates, totalling 5 fits\n",
            "Fitting 5 folds for each of 1 candidates, totalling 5 fits\n",
            "Fitting 5 folds for each of 1 candidates, totalling 5 fits\n",
            "Fitting 5 folds for each of 1 candidates, totalling 5 fits\n",
            "Fitting 5 folds for each of 1 candidates, totalling 5 fits\n",
            "Fitting 5 folds for each of 1 candidates, totalling 5 fits\n",
            "Fitting 5 folds for each of 1 candidates, totalling 5 fits\n",
            "Fitting 5 folds for each of 1 candidates, totalling 5 fits\n",
            "Fitting 5 folds for each of 1 candidates, totalling 5 fits\n",
            "Fitting 5 folds for each of 1 candidates, totalling 5 fits\n",
            "Fitting 5 folds for each of 1 candidates, totalling 5 fits\n"
          ]
        },
        {
          "output_type": "stream",
          "name": "stderr",
          "text": [
            "/usr/local/lib/python3.9/dist-packages/skopt/optimizer/optimizer.py:449: UserWarning: The objective has been evaluated at this point before.\n",
            "  warnings.warn(\"The objective has been evaluated \"\n"
          ]
        },
        {
          "output_type": "stream",
          "name": "stdout",
          "text": [
            "Fitting 5 folds for each of 1 candidates, totalling 5 fits\n",
            "Fitting 5 folds for each of 1 candidates, totalling 5 fits\n",
            "Fitting 5 folds for each of 1 candidates, totalling 5 fits\n",
            "Fitting 5 folds for each of 1 candidates, totalling 5 fits\n",
            "Fitting 5 folds for each of 1 candidates, totalling 5 fits\n",
            "best score 0.8781963015034879\n",
            "best score OrderedDict([('my_classifier__max_depth', 10), ('my_classifier__n_estimators', 80), ('preprocessor__num__imputer__strategy', 'mean')])\n"
          ]
        }
      ]
    },
    {
      "cell_type": "code",
      "source": [
        "submission = pd.DataFrame()\n",
        "\n",
        "submission['id'] = df_test.index\n",
        "\n",
        "submission['match'] = bayes_search_2.predict_proba(df_test)[:,1]\n",
        "\n",
        "submission.to_csv('Bayesian_search_XG.csv', index=False)"
      ],
      "metadata": {
        "id": "ub_ARj3U94F9"
      },
      "execution_count": null,
      "outputs": []
    },
    {
      "cell_type": "markdown",
      "source": [
        "Trial 6: XGBoost clasifier with Grid Search"
      ],
      "metadata": {
        "id": "TjwIXbmhvrUV"
      }
    },
    {
      "cell_type": "code",
      "source": [
        "# cv=3 means two-fold cross-validation\n",
        "# n_jobs means the cucurrent number of jobs\n",
        "# (on colab since we only have two cpu cores, we set it to 2)\n",
        "grid_search_2 = GridSearchCV(\n",
        "    full_pipline_2, param_grid, cv=3, verbose=1, n_jobs=2, \n",
        "    scoring='roc_auc')\n",
        "\n",
        "grid_search_2.fit(x, y)\n",
        "print('best score {}'.format(grid_search_2.best_score_))\n",
        "print('best score {}'.format(grid_search_2.best_params_))"
      ],
      "metadata": {
        "colab": {
          "base_uri": "https://localhost:8080/"
        },
        "id": "cbJmHDriu3kF",
        "outputId": "f016b8af-fefa-498e-a614-7cd1844ba52c"
      },
      "execution_count": null,
      "outputs": [
        {
          "output_type": "stream",
          "name": "stdout",
          "text": [
            "Fitting 3 folds for each of 54 candidates, totalling 162 fits\n",
            "best score 0.8754023626858495\n",
            "best score {'my_classifier__max_depth': 10, 'my_classifier__n_estimators': 70, 'preprocessor__num__imputer__strategy': 'mean'}\n"
          ]
        }
      ]
    },
    {
      "cell_type": "markdown",
      "source": [
        "after observations I think that the XGboost with bayesian search was the better one ."
      ],
      "metadata": {
        "id": "eybMbIn6qVIs"
      }
    },
    {
      "cell_type": "markdown",
      "source": [
        "#I think after observations using the decision tree and XGboost \n",
        "XGboost is better classifier."
      ],
      "metadata": {
        "id": "aC8k3V8rrl4h"
      }
    }
  ]
}